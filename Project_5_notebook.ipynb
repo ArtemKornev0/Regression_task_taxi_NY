{
 "cells": [
  {
   "cell_type": "markdown",
   "metadata": {
    "id": "F6EDfWQLkBLX",
    "tags": []
   },
   "source": [
    "## 1. Постановка задачи"
   ]
  },
  {
   "cell_type": "markdown",
   "metadata": {
    "id": "G3NPCLzmkBLa"
   },
   "source": [
    "<center> <img src=https://storage.googleapis.com/kaggle-competitions/kaggle/3333/media/taxi_meter.png align=\"right\" width=\"300\"/> </center>\n",
    "    \n",
    "Вам предстоит решить настоящую задачу машинного обучения, направленную на автоматизацию бизнес процессов. Мы построим модель, которая будет предсказывать общую продолжительность поездки такси в Нью-Йорке. \n",
    "\n",
    "Представьте вы заказываете такси из одной точки Нью-Йорка в другую, причем не обязательно конечная точка должна находиться в пределах города. Сколько вы должны будете за нее заплатить? Известно, что стоимость такси в США  рассчитывается на основе фиксированной ставки + тарифная стоимость, величина которой зависит от времени и расстояния. Тарифы варьируются в зависимости от города.\n",
    "\n",
    "В свою очередь время поездки зависит от множества факторов таких как, откуда и куда вы едете, в какое время суток вы совершаете вашу поездку, погодных условий и так далее. \n",
    "\n",
    "Таким образом, если мы разработаем алгоритм, способный определять длительность поездки, мы сможем прогнозировать ее стоимость самым тривиальным образом, например, просто умножая стоимость на заданный тариф. \n",
    "Сервисы такси хранят огромные объёмы информации о поездках, включая такие данные как конечная, начальная точка маршрута, дата поездки и ее длительность. Эти данные можно использовать для того, чтобы прогнозировать длительность поездки в автоматическом режиме с привлечением искусственного интеллекта.\n",
    "\n",
    "**Бизнес-задача:** определить характеристики и с их помощью спрогнозировать длительность поездки такси.\n",
    "\n",
    "**Техническая задача для вас как для специалиста в Data Science:** построить модель машинного обучения, которая на основе предложенных характеристик клиента будет предсказывать числовой признак - время поездки такси. То есть решить задачу регрессии.\n",
    "\n",
    "**Основные цели проекта:**\n",
    "1. Сформировать набор данных на основе нескольких источников информации\n",
    "2. Спроектировать новые признаки с помощью Feature Engineering и выявить наиболее значимые при построении модели\n",
    "3. Исследовать предоставленные данные и выявить закономерности\n",
    "4. Построить несколько моделей и выбрать из них наилучшую по заданной метрике\n",
    "5. Спроектировать процесс предсказания времени длительности поездки для новых данных\n",
    "\n",
    "Загрузить свое решение на платформу Kaggle, тем самым поучаствовав в настоящем Data Science соревновании.\n",
    "Во время выполнения проекта вы отработаете навыки работы с несколькими источниками данных, генерации признаков, разведывательного анализа и визуализации данных, отбора признаков и, конечно же, построения моделей машинного обучения!\n"
   ]
  },
  {
   "cell_type": "markdown",
   "metadata": {
    "id": "4Up0IUABkBLc",
    "tags": []
   },
   "source": [
    "## 2. Знакомство с данными, базовый анализ и расширение данных"
   ]
  },
  {
   "cell_type": "markdown",
   "metadata": {
    "id": "7W9mZPhWkBLd"
   },
   "source": [
    "Начнём наше исследование со знакомства с предоставленными данными. А также подгрузим дополнительные источники данных и расширим наш исходный датасет. \n"
   ]
  },
  {
   "cell_type": "markdown",
   "metadata": {
    "id": "UTIxJupXkBLd"
   },
   "source": [
    "Заранее импортируем модули, которые нам понадобятся для решения задачи:"
   ]
  },
  {
   "cell_type": "code",
   "execution_count": 3,
   "metadata": {
    "id": "yeC12P0hkBLe"
   },
   "outputs": [],
   "source": [
    "import numpy as np\n",
    "import pandas as pd\n",
    "import matplotlib.pyplot as plt\n",
    "import seaborn as sns\n",
    "import plotly.graph_objs as go\n",
    "from plotly.subplots import make_subplots\n",
    "\n",
    "from scipy import stats\n",
    "from sklearn import linear_model\n",
    "from sklearn import preprocessing\n",
    "from sklearn import model_selection\n",
    "from sklearn import tree\n",
    "from sklearn import ensemble\n",
    "from sklearn import metrics\n",
    "from sklearn import cluster\n",
    "from sklearn import feature_selection"
   ]
  },
  {
   "cell_type": "markdown",
   "metadata": {
    "id": "kk5-kjqikBLf"
   },
   "source": [
    "Прочитаем наш файл с исходными данными:"
   ]
  },
  {
   "cell_type": "code",
   "execution_count": 4,
   "metadata": {
    "_cell_guid": "79c7e3d0-c299-4dcb-8224-4455121ee9b0",
    "_uuid": "d629ff2d2480ee46fbb7e2d37f6b5fab8052498a",
    "id": "hMQnRJwdkBLg",
    "tags": []
   },
   "outputs": [
    {
     "name": "stdout",
     "output_type": "stream",
     "text": [
      "Train data shape: (1458644, 11)\n"
     ]
    },
    {
     "data": {
      "text/html": [
       "<div>\n",
       "<style scoped>\n",
       "    .dataframe tbody tr th:only-of-type {\n",
       "        vertical-align: middle;\n",
       "    }\n",
       "\n",
       "    .dataframe tbody tr th {\n",
       "        vertical-align: top;\n",
       "    }\n",
       "\n",
       "    .dataframe thead th {\n",
       "        text-align: right;\n",
       "    }\n",
       "</style>\n",
       "<table border=\"1\" class=\"dataframe\">\n",
       "  <thead>\n",
       "    <tr style=\"text-align: right;\">\n",
       "      <th></th>\n",
       "      <th>id</th>\n",
       "      <th>vendor_id</th>\n",
       "      <th>pickup_datetime</th>\n",
       "      <th>dropoff_datetime</th>\n",
       "      <th>passenger_count</th>\n",
       "      <th>pickup_longitude</th>\n",
       "      <th>pickup_latitude</th>\n",
       "      <th>dropoff_longitude</th>\n",
       "      <th>dropoff_latitude</th>\n",
       "      <th>store_and_fwd_flag</th>\n",
       "      <th>trip_duration</th>\n",
       "    </tr>\n",
       "  </thead>\n",
       "  <tbody>\n",
       "    <tr>\n",
       "      <th>0</th>\n",
       "      <td>id2875421</td>\n",
       "      <td>2</td>\n",
       "      <td>2016-03-14 17:24:55</td>\n",
       "      <td>2016-03-14 17:32:30</td>\n",
       "      <td>1</td>\n",
       "      <td>-73.982155</td>\n",
       "      <td>40.767937</td>\n",
       "      <td>-73.964630</td>\n",
       "      <td>40.765602</td>\n",
       "      <td>N</td>\n",
       "      <td>455</td>\n",
       "    </tr>\n",
       "    <tr>\n",
       "      <th>1</th>\n",
       "      <td>id2377394</td>\n",
       "      <td>1</td>\n",
       "      <td>2016-06-12 00:43:35</td>\n",
       "      <td>2016-06-12 00:54:38</td>\n",
       "      <td>1</td>\n",
       "      <td>-73.980415</td>\n",
       "      <td>40.738564</td>\n",
       "      <td>-73.999481</td>\n",
       "      <td>40.731152</td>\n",
       "      <td>N</td>\n",
       "      <td>663</td>\n",
       "    </tr>\n",
       "    <tr>\n",
       "      <th>2</th>\n",
       "      <td>id3858529</td>\n",
       "      <td>2</td>\n",
       "      <td>2016-01-19 11:35:24</td>\n",
       "      <td>2016-01-19 12:10:48</td>\n",
       "      <td>1</td>\n",
       "      <td>-73.979027</td>\n",
       "      <td>40.763939</td>\n",
       "      <td>-74.005333</td>\n",
       "      <td>40.710087</td>\n",
       "      <td>N</td>\n",
       "      <td>2124</td>\n",
       "    </tr>\n",
       "    <tr>\n",
       "      <th>3</th>\n",
       "      <td>id3504673</td>\n",
       "      <td>2</td>\n",
       "      <td>2016-04-06 19:32:31</td>\n",
       "      <td>2016-04-06 19:39:40</td>\n",
       "      <td>1</td>\n",
       "      <td>-74.010040</td>\n",
       "      <td>40.719971</td>\n",
       "      <td>-74.012268</td>\n",
       "      <td>40.706718</td>\n",
       "      <td>N</td>\n",
       "      <td>429</td>\n",
       "    </tr>\n",
       "    <tr>\n",
       "      <th>4</th>\n",
       "      <td>id2181028</td>\n",
       "      <td>2</td>\n",
       "      <td>2016-03-26 13:30:55</td>\n",
       "      <td>2016-03-26 13:38:10</td>\n",
       "      <td>1</td>\n",
       "      <td>-73.973053</td>\n",
       "      <td>40.793209</td>\n",
       "      <td>-73.972923</td>\n",
       "      <td>40.782520</td>\n",
       "      <td>N</td>\n",
       "      <td>435</td>\n",
       "    </tr>\n",
       "  </tbody>\n",
       "</table>\n",
       "</div>"
      ],
      "text/plain": [
       "          id  vendor_id      pickup_datetime     dropoff_datetime  \\\n",
       "0  id2875421          2  2016-03-14 17:24:55  2016-03-14 17:32:30   \n",
       "1  id2377394          1  2016-06-12 00:43:35  2016-06-12 00:54:38   \n",
       "2  id3858529          2  2016-01-19 11:35:24  2016-01-19 12:10:48   \n",
       "3  id3504673          2  2016-04-06 19:32:31  2016-04-06 19:39:40   \n",
       "4  id2181028          2  2016-03-26 13:30:55  2016-03-26 13:38:10   \n",
       "\n",
       "   passenger_count  pickup_longitude  pickup_latitude  dropoff_longitude  \\\n",
       "0                1        -73.982155        40.767937         -73.964630   \n",
       "1                1        -73.980415        40.738564         -73.999481   \n",
       "2                1        -73.979027        40.763939         -74.005333   \n",
       "3                1        -74.010040        40.719971         -74.012268   \n",
       "4                1        -73.973053        40.793209         -73.972923   \n",
       "\n",
       "   dropoff_latitude store_and_fwd_flag  trip_duration  \n",
       "0         40.765602                  N            455  \n",
       "1         40.731152                  N            663  \n",
       "2         40.710087                  N           2124  \n",
       "3         40.706718                  N            429  \n",
       "4         40.782520                  N            435  "
      ]
     },
     "execution_count": 4,
     "metadata": {},
     "output_type": "execute_result"
    }
   ],
   "source": [
    "taxi_data = pd.read_csv(\"data/train.csv\")\n",
    "print('Train data shape: {}'.format(taxi_data.shape))\n",
    "taxi_data.head()"
   ]
  },
  {
   "cell_type": "markdown",
   "metadata": {
    "id": "xhaxNt0XkBLh"
   },
   "source": [
    "Итак, у нас с вами есть данные о почти 1.5 миллионах поездок и 11 характеристиках, которые описывают каждую из поездок. "
   ]
  },
  {
   "cell_type": "markdown",
   "metadata": {
    "id": "tXufvADjkBLi"
   },
   "source": [
    "Мы условно разделили признаки нескольких групп. Каждой из групп мы в дальнейшем уделим отдельное внимание.\n",
    "\n",
    "**Данные о клиенте и таксопарке:**\n",
    "* id - уникальный идентификатор поездки\n",
    "* vendor_id - уникальный идентификатор поставщика (таксопарка), связанного с записью поездки\n",
    "\n",
    "**Временные характеристики:**\n",
    "* pickup_datetime - дата и время, когда был включен счетчик поездки\n",
    "* dropoff_datetime - дата и время, когда счетчик был отключен\n",
    "\n",
    "**Географическая информация:**\n",
    "* pickup_longitude -  долгота, на которой был включен счетчик\n",
    "* pickup_latitude - широта, на которой был включен счетчик\n",
    "* dropoff_longitude - долгота, на которой счетчик был отключен\n",
    "* dropoff_latitude - широта, на которой счетчик был отключен\n",
    "\n",
    "**Прочие признаки:**\n",
    "* passenger_count - количество пассажиров в транспортном средстве (введенное водителем значение)\n",
    "* store_and_fwd_flag - флаг, который указывает, сохранилась ли запись о поездке в памяти транспортного средства перед отправкой поставщику. Y - хранить и пересылать, N - не хранить и не пересылать поездку.\n",
    "\n",
    "**Целевой признак:**\n",
    "* trip_duration - продолжительность поездки в секундах\n"
   ]
  },
  {
   "cell_type": "markdown",
   "metadata": {
    "id": "VvrcGynTkBLi"
   },
   "source": [
    "Для начала мы проведем базовый анализ того, насколько данные готовы к дальнейшей предобработке и анализу. "
   ]
  },
  {
   "cell_type": "markdown",
   "metadata": {
    "id": "33rsP7rTkBLj"
   },
   "source": [
    "### Задание 2.1\n",
    "Для начала посмотрим на временные рамки, в которых мы работаем с данными.\n",
    "\n",
    "Переведите признак pickup_datetime в тип данных datetime с форматом год-месяц-день час:минута:секунда (в функции pd.to_datetime() параметр format='%Y-%m-%d %H:%M:%S'). \n",
    "\n",
    "Определите временные рамки (без учета времени), за которые представлены данные."
   ]
  },
  {
   "cell_type": "code",
   "execution_count": 5,
   "metadata": {
    "id": "cIVxwqW1kBLj"
   },
   "outputs": [
    {
     "name": "stdout",
     "output_type": "stream",
     "text": [
      "Данные предоставлены за период с 2016-01-01 по 2016-06-30\n"
     ]
    }
   ],
   "source": [
    "taxi_data['pickup_datetime'] = pd.to_datetime(taxi_data['pickup_datetime'], format='%Y-%m-%d %H:%M:%S')\n",
    "\n",
    "print(f'Данные предоставлены за период с {taxi_data.pickup_datetime.min().date()} по {taxi_data.pickup_datetime.max().date()}')"
   ]
  },
  {
   "cell_type": "markdown",
   "metadata": {
    "id": "prw5RhKnkBLj"
   },
   "source": [
    "### Задание 2.2\n",
    "Посмотрим на пропуски. \n",
    "Сколько пропущенных значений присутствует в данных (суммарно по всем столбцам таблицы)?"
   ]
  },
  {
   "cell_type": "code",
   "execution_count": 6,
   "metadata": {
    "id": "ug16JoZDkBLk"
   },
   "outputs": [
    {
     "name": "stdout",
     "output_type": "stream",
     "text": [
      "Количество пропусков данных:  0\n"
     ]
    }
   ],
   "source": [
    "print('Количество пропусков данных: ', taxi_data.isna().sum().sum())"
   ]
  },
  {
   "cell_type": "markdown",
   "metadata": {
    "id": "ZMMIyT1skBLk"
   },
   "source": [
    "### Задание 2.3\n",
    "Посмотрим на статистические характеристики некоторых признаков. \n",
    "\n",
    "а) Сколько уникальных таксопарков присутствует в данных?\n",
    "\n",
    "б) Каково максимальное количество пассажиров?\n",
    "\n",
    "в) Чему равна средняя и медианная длительность поездки? Ответ приведите в секундах и округлите до целого.\n",
    "\n",
    "г) Чему равно минимальное и максимальное время поездки (в секундах)?\n"
   ]
  },
  {
   "cell_type": "code",
   "execution_count": 7,
   "metadata": {
    "id": "UeJfdmIskBLk"
   },
   "outputs": [
    {
     "name": "stdout",
     "output_type": "stream",
     "text": [
      "Количество уникальных таксопарков: 2\n",
      "Максимальное количество пассажиров: 9\n",
      "Длительность поездки средняя: 959 и медианная: 662\n",
      "Длительность поездки минимальная: 1 и максимальная: 3526282\n"
     ]
    }
   ],
   "source": [
    "print(f'Количество уникальных таксопарков: {len(taxi_data.vendor_id.unique())}')\n",
    "print(f'Максимальное количество пассажиров: {taxi_data.passenger_count.max()}')\n",
    "print(f'Длительность поездки средняя: {round(taxi_data.trip_duration.mean())} и медианная: {round(taxi_data.trip_duration.median())}')\n",
    "print(f'Длительность поездки минимальная: {taxi_data.trip_duration.min()} и максимальная: {taxi_data.trip_duration.max()}')"
   ]
  },
  {
   "cell_type": "markdown",
   "metadata": {
    "id": "JhUgalQSkBLk"
   },
   "source": [
    "Займемся расширением исходного набора данных как с помощью внешних источников, так и с помощью манипуляций над имеющимися в данных признаками. \n"
   ]
  },
  {
   "cell_type": "markdown",
   "metadata": {
    "id": "riVyyTGRkBLk"
   },
   "source": [
    "### Задание 2.4\n",
    "Реализуйте функцию add_datetime_features(), которая принимает на вход таблицу с данными о поездках (DataFrame) и возвращает ту же таблицу с добавленными в нее 3 столбцами:\n",
    "* pickup_date - дата включения счетчика - начала поездки (без времени);\n",
    "* pickup_hour - час дня включения счетчика;\n",
    "* pickup_day_of_week - наименование дня недели, в который был включен счетчик.\n",
    "\n",
    "а) Сколько поездок было совершено в субботу?\n",
    "\n",
    "б) Сколько поездок в среднем совершается в день? Ответ округлите до целого"
   ]
  },
  {
   "cell_type": "code",
   "execution_count": 8,
   "metadata": {
    "id": "2987aTUAkBLl"
   },
   "outputs": [
    {
     "name": "stdout",
     "output_type": "stream",
     "text": [
      "Количество поездок в субботу:  220868\n",
      "Среднее количество поездок в день:  8015\n"
     ]
    }
   ],
   "source": [
    "def add_datetime_features(data):\n",
    "    data['pickup_date'] = data['pickup_datetime'].dt.date\n",
    "    data['pickup_hour'] = data['pickup_datetime'].dt.hour\n",
    "    data['pickup_day_of_week'] = data['pickup_datetime'].dt.day_name ()\n",
    "    return data\n",
    "\n",
    "taxi_data = add_datetime_features(taxi_data)\n",
    "\n",
    "print('Количество поездок в субботу: ', taxi_data['pickup_day_of_week'][taxi_data['pickup_day_of_week'] == 'Saturday'].shape[0])\n",
    "print('Среднее количество поездок в день: ', round(taxi_data['pickup_date'].value_counts().mean()))\n"
   ]
  },
  {
   "cell_type": "markdown",
   "metadata": {
    "id": "5rCk6lyTkBLl"
   },
   "source": [
    "### Задание 2.5\n",
    "Реализуйте функцию add_holiday_features(), которая принимает на вход две таблицы: \n",
    "* таблицу с данными о поездках;\n",
    "* таблицу с данными о праздничных днях;\n",
    "\n",
    "и возвращает обновленную таблицу с данными о поездках с добавленным в нее столбцом pickup_holiday - бинарным признаком того, начата ли поездка в праздничный день или нет (1 - да, 0 - нет). \n",
    "\n",
    "Чему равна медианная длительность поездки на такси в праздничные дни? Ответ приведите в секундах, округлив до целого.\n"
   ]
  },
  {
   "cell_type": "code",
   "execution_count": 9,
   "metadata": {
    "id": "ZnPWsSMukBLl"
   },
   "outputs": [
    {
     "name": "stdout",
     "output_type": "stream",
     "text": [
      "Медианная длительность поездки на такси в праздничные дни:  585\n"
     ]
    }
   ],
   "source": [
    "holiday_data = pd.read_csv('data/holiday_data.csv', sep=';')\n",
    "\n",
    "def add_holiday_features(data, holiday):\n",
    "    holiday['date'] = pd.to_datetime(holiday['date']).dt.date\n",
    "    holidays = set(holiday['date'])\n",
    "    data['pickup_holiday'] = data['pickup_date'].apply(lambda x: 1 if x in holidays else 0)\n",
    "    return data\n",
    "\n",
    "taxi_data = add_holiday_features(taxi_data, holiday_data)\n",
    "\n",
    "print('Медианная длительность поездки на такси в праздничные дни: ', round(taxi_data['trip_duration'][taxi_data['pickup_holiday'] == 1].median()))\n",
    "\n"
   ]
  },
  {
   "cell_type": "markdown",
   "metadata": {
    "id": "YPxMlVMAkBLl"
   },
   "source": [
    "### Задание 2.6\n",
    "Реализуйте функцию add_osrm_features(), которая принимает на вход две таблицы:\n",
    "* таблицу с данными о поездках;\n",
    "* таблицу с данными из OSRM;\n",
    "\n",
    "и возвращает обновленную таблицу с данными о поездках с добавленными в нее 3 столбцами:\n",
    "* total_distance;\n",
    "* total_travel_time;\n",
    "* number_of_steps.\n",
    "\n",
    "а) Чему равна разница (в секундах) между медианной длительностью поездки в данных и медианной длительностью поездки, полученной из OSRM? \n",
    "\n",
    "В результате объединения таблиц у вас должны были получиться пропуски в столбцах с информацией из OSRM API. Это связано с тем, что для некоторых поездок не удалось выгрузить данные из веб источника. \n",
    "\n",
    "б) Сколько пропусков содержится в столбцах с информацией из OSRM API после объединения таблиц?"
   ]
  },
  {
   "cell_type": "code",
   "execution_count": 10,
   "metadata": {
    "id": "uey_zFbwkBLm"
   },
   "outputs": [
    {
     "name": "stdout",
     "output_type": "stream",
     "text": [
      "Рразница между медианной длительностью поездки в данных и полученной из OSRM: 372 сек\n",
      "Количество строк с пропусками в признаках из OSRM: 1\n"
     ]
    }
   ],
   "source": [
    "\n",
    "osrm_data = pd.read_csv('data/osrm_data_train.csv')\n",
    "\n",
    "def add_osrm_features(data, osrm):\n",
    "    return data.merge(osrm[['id', 'total_distance', 'total_travel_time', 'number_of_steps']], on='id', how='left')\n",
    "\n",
    "taxi_data = add_osrm_features(taxi_data, osrm_data)\n",
    "\n",
    "distance_diff = round(abs(taxi_data['trip_duration'].median() - taxi_data['total_travel_time'].median()))\n",
    "print(f'Рразница между медианной длительностью поездки в данных и полученной из OSRM: {distance_diff} сек')\n",
    "\n",
    "osrm_null = taxi_data[['total_distance', 'total_travel_time', 'number_of_steps']].isna().sum()[0]\n",
    "print(f'Количество строк с пропусками в признаках из OSRM: {osrm_null}')"
   ]
  },
  {
   "cell_type": "code",
   "execution_count": 11,
   "metadata": {
    "id": "ti1rljMGkBLm"
   },
   "outputs": [],
   "source": [
    "def get_haversine_distance(lat1, lng1, lat2, lng2):\n",
    "    # переводим углы в радианы\n",
    "    lat1, lng1, lat2, lng2 = map(np.radians, (lat1, lng1, lat2, lng2))\n",
    "    # радиус земли в километрах\n",
    "    EARTH_RADIUS = 6371 \n",
    "    # считаем кратчайшее расстояние h по формуле Хаверсина\n",
    "    lat_delta = lat2 - lat1\n",
    "    lng_delta = lng2 - lng1\n",
    "    d = np.sin(lat_delta * 0.5) ** 2 + np.cos(lat1) * np.cos(lat2) * np.sin(lng_delta * 0.5) ** 2\n",
    "    h = 2 * EARTH_RADIUS * np.arcsin(np.sqrt(d))\n",
    "    return h\n",
    "\n",
    "def get_angle_direction(lat1, lng1, lat2, lng2):\n",
    "    # переводим углы в радианы\n",
    "    lat1, lng1, lat2, lng2 = map(np.radians, (lat1, lng1, lat2, lng2))\n",
    "    # считаем угол направления движения alpha по формуле угла пеленга\n",
    "    lng_delta_rad = lng2 - lng1\n",
    "    y = np.sin(lng_delta_rad) * np.cos(lat2)\n",
    "    x = np.cos(lat1) * np.sin(lat2) - np.sin(lat1) * np.cos(lat2) * np.cos(lng_delta_rad)\n",
    "    alpha = np.degrees(np.arctan2(y, x))\n",
    "    return alpha"
   ]
  },
  {
   "cell_type": "markdown",
   "metadata": {
    "id": "lGQpi4erkBLm",
    "tags": []
   },
   "source": [
    "### Задание 2.7.\n",
    "Реализуйте функцию add_geographical_features(), которая принимает на вход таблицу с данными о поездках и возвращает обновленную таблицу с добавленными в нее 2 столбцами:\n",
    "* haversine_distance - расстояние Хаверсина между точкой, в которой был включен счетчик, и точкой, в которой счетчик был выключен;\n",
    "* direction - направление движения из точки, в которой был включен счетчик, в точку, в которой счетчик был выключен.\n",
    "\n",
    "Чему равно медианное расстояние Хаверсина поездок (в киллометрах)? Ответ округлите до сотых.\n"
   ]
  },
  {
   "cell_type": "code",
   "execution_count": 12,
   "metadata": {},
   "outputs": [
    {
     "name": "stdout",
     "output_type": "stream",
     "text": [
      "Медианное расстояние Хаверсина поездок: 2.09 км\n"
     ]
    }
   ],
   "source": [
    "def add_geographical_features(data):\n",
    "    lat1 = data['pickup_latitude'].to_numpy()\n",
    "    lat2 = data['dropoff_latitude'].to_numpy()\n",
    "    lng1 = data['pickup_longitude'].to_numpy()\n",
    "    lng2 = data['dropoff_longitude'].to_numpy()\n",
    "    data['haversine_distance'] = get_haversine_distance(lat1, lng1, lat2, lng2)\n",
    "    data['direction'] = get_angle_direction(lat1, lng1, lat2, lng2)\n",
    "    return data\n",
    "\n",
    "taxi_data = add_geographical_features(taxi_data)\n",
    "\n",
    "print(f'Медианное расстояние Хаверсина поездок: {round(taxi_data.haversine_distance.median(), 2)} км')"
   ]
  },
  {
   "cell_type": "markdown",
   "metadata": {
    "id": "_WWydgB2kBLm"
   },
   "source": [
    "### Задание 2.8.\n",
    "Реализуйте функцию add_cluster_features(), которая принимает на вход таблицу с данными о поездках и обученный алгоритм кластеризации. Функция должна возвращать обновленную таблицу с добавленными в нее столбцом geo_cluster - географический кластер, к которому относится поездка.\n",
    "\n",
    "Сколько поездок содержится в наименьшем по размеру географическом кластере?\n"
   ]
  },
  {
   "cell_type": "code",
   "execution_count": 13,
   "metadata": {
    "id": "YxpWNYfakBLn"
   },
   "outputs": [
    {
     "name": "stderr",
     "output_type": "stream",
     "text": [
      "c:\\Users\\artem\\AppData\\Local\\Programs\\Python\\Python310\\lib\\site-packages\\sklearn\\cluster\\_kmeans.py:1412: FutureWarning: The default value of `n_init` will change from 10 to 'auto' in 1.4. Set the value of `n_init` explicitly to suppress the warning\n",
      "  super()._check_params_vs_input(X, default_n_init=10)\n"
     ]
    },
    {
     "name": "stdout",
     "output_type": "stream",
     "text": [
      "В наименьшем по размеру географическом кластере содержится 2 поездки\n"
     ]
    },
    {
     "data": {
      "text/plain": [
       "1    592117\n",
       "0    392108\n",
       "6    340489\n",
       "8     45518\n",
       "4     40234\n",
       "5     32799\n",
       "7     15355\n",
       "9        18\n",
       "3         4\n",
       "2         2\n",
       "Name: geo_cluster, dtype: int64"
      ]
     },
     "execution_count": 13,
     "metadata": {},
     "output_type": "execute_result"
    }
   ],
   "source": [
    "# создаем обучающую выборку из географических координат всех точек\n",
    "coords = np.hstack((taxi_data[['pickup_latitude', 'pickup_longitude']],\n",
    "                    taxi_data[['dropoff_latitude', 'dropoff_longitude']]))\n",
    "# обучаем алгоритм кластеризации\n",
    "kmeans = cluster.KMeans(n_clusters=10, random_state=42)\n",
    "kmeans.fit(coords)\n",
    "\n",
    "def add_cluster_features(data, model):\n",
    "    X = data[['pickup_latitude', 'pickup_longitude', 'dropoff_latitude', 'dropoff_longitude']].to_numpy()\n",
    "    data['geo_cluster'] = model.predict(X)\n",
    "    return data\n",
    "\n",
    "taxi_data = add_cluster_features(taxi_data, kmeans)\n",
    "\n",
    "print(f'В наименьшем по размеру географическом кластере содержится {taxi_data[\"geo_cluster\"].value_counts().min()} поездки')\n",
    "\n",
    "# проверяем получившиеся кластеры\n",
    "taxi_data['geo_cluster'].value_counts().sort_values(ascending = False)"
   ]
  },
  {
   "cell_type": "markdown",
   "metadata": {
    "id": "4FRtxWNDkBLn"
   },
   "source": [
    "### Задание 2.9.\n",
    "Реализуйте функцию add_weather_features(), которая принимает на вход две таблицы:\n",
    "* таблицу с данными о поездках;\n",
    "* таблицу с данными о погодных условиях на каждый час;\n",
    "\n",
    "и возвращает обновленную таблицу с данными о поездках с добавленными в нее 5 столбцами:\n",
    "* temperature - температура;\n",
    "* visibility - видимость;\n",
    "* wind speed - средняя скорость ветра;\n",
    "* precip - количество осадков;\n",
    "* events - погодные явления.\n",
    "\n",
    "а) Сколько поездок было совершено в снежную погоду?\n",
    "\n",
    "В результате объединения у вас должны получиться записи, для которых в столбцах temperature, visibility, wind speed, precip, и events будут пропуски. Это связано с тем, что в таблице с данными о погодных условиях отсутствуют измерения для некоторых моментов времени, в которых включался счетчик поездки. \n",
    "\n",
    "б) Сколько процентов от общего количества наблюдений в таблице с данными о поездках занимают пропуски в столбцах с погодными условиями? Ответ приведите с точностью до сотых процента.\n"
   ]
  },
  {
   "cell_type": "code",
   "execution_count": 14,
   "metadata": {
    "id": "PdgHJwQgkBLn"
   },
   "outputs": [
    {
     "name": "stdout",
     "output_type": "stream",
     "text": [
      "В снежную погоду совершено 13126 поездок\n",
      "Пропуски в столбцах с погодными условиями занимают 0.82 % от общего количества наблюдений\n"
     ]
    }
   ],
   "source": [
    "weather_data = pd.read_csv('data/weather_data.csv')\n",
    "\n",
    "def add_weather_features(data, weather):\n",
    "    weather['time'] = pd.to_datetime(weather['time'], format='%Y-%m-%d %H:%M:%S')\n",
    "    weather['date'] = weather['time'].dt.date\n",
    "    weather['hour'] = weather['time'].dt.hour\n",
    "    data = data.merge(weather[['date', 'hour', 'temperature', 'visibility', 'wind speed', 'precip', 'events']], \n",
    "                      left_on=['pickup_date', 'pickup_hour'], \n",
    "                      right_on=['date', 'hour'], \n",
    "                      how='left')\n",
    "    data.drop(['date', 'hour'], axis=1, inplace=True)\n",
    "    return data\n",
    "\n",
    "taxi_data = add_weather_features(taxi_data, weather_data)\n",
    "\n",
    "print(f'В снежную погоду совершено {taxi_data[taxi_data[\"events\"] == \"Snow\"].shape[0]} поездок')\n",
    "\n",
    "weather_null = (taxi_data[['temperature', 'visibility', 'wind speed', 'precip', 'events']].isna().sum(axis=1) > 0).sum()\n",
    "percent_weather_null = round(weather_null / taxi_data.shape[0] * 100, 2)\n",
    "print(f'Пропуски в столбцах с погодными условиями занимают {percent_weather_null} % от общего количества наблюдений')"
   ]
  },
  {
   "cell_type": "markdown",
   "metadata": {
    "id": "hwsluTQHkBLn"
   },
   "source": [
    "### Задание 2.10.\n",
    "Реализуйте функцию fill_null_weather_data(), которая принимает на вход таблицу с данными о поездках. Функция должна заполнять пропущенные значения в столбцах.\n",
    "\n",
    "Пропуски в столбцах с погодными условиями -  temperature, visibility, wind speed, precip заполните медианным значением температуры, влажности, скорости ветра и видимости в зависимости от даты начала поездки. Для этого сгруппируйте данные по столбцу pickup_date и рассчитайте медиану в каждой группе, после чего с помощью комбинации методов transform() и fillna() заполните пропуски. \n",
    "Пропуски в столбце events заполните строкой 'None' - символом отсутствия погодных явлений (снега/дождя/тумана). \n",
    "\n",
    "Пропуски в столбцах с информацией из OSRM API - total_distance, total_travel_time и number_of_steps заполните медианным значением по столбцам. \n",
    "\n",
    "Чему равна медиана в столбце temperature после заполнения пропусков? Ответ округлите до десятых.\n"
   ]
  },
  {
   "cell_type": "code",
   "execution_count": 15,
   "metadata": {
    "id": "oHIYqxjKkBLn"
   },
   "outputs": [
    {
     "name": "stdout",
     "output_type": "stream",
     "text": [
      "Медиана в столбце temperature: 11.1 град.\n"
     ]
    }
   ],
   "source": [
    "def fill_null_weather_data(data):\n",
    "    col_weather = ['temperature', 'visibility', 'wind speed', 'precip']\n",
    "    data[col_weather] = data[col_weather].fillna(data.groupby('pickup_date')[col_weather].transform('median'))\n",
    "    data['events'] = data['events'].fillna('None')\n",
    "    col_osrm = ['total_distance', 'total_travel_time', 'number_of_steps']\n",
    "    data[col_osrm] = data[col_osrm].fillna(data[col_osrm].median())\n",
    "    return data\n",
    "\n",
    "taxi_data = fill_null_weather_data(taxi_data)\n",
    "\n",
    "print(f'Медиана в столбце temperature: {taxi_data[\"temperature\"].median()} град.')"
   ]
  },
  {
   "cell_type": "markdown",
   "metadata": {
    "id": "MahzwVDxkBLn"
   },
   "source": [
    "В завершение первой части найдем очевидные выбросы в целевой переменной - длительности поездки. \n",
    "\n",
    "Проще всего найти слишком продолжительные поездки. Давайте условимся, что выбросами будут считаться поездки, длительность которых превышает 24 часа. \n",
    "\n",
    "Чуть сложнее с анализом поездок, длительность которых слишком мала. Потому что к ним относятся действительно реальные поездки на короткие расстояния, поездки, которые были отменены через секунду после того как включился счетчик, а также “телепортации” - перемещение на большие расстояния за считанные секунды. \n",
    "Условимся, что мы будем считать выбросами только последнюю группу. Как же нам их обнаружить наиболее простым способом?\n",
    "\n",
    "Можно воспользоваться информацией о кратчайшем расстоянии, которое проезжает такси. Вычислить среднюю скорость автомобиля на кратчайшем пути следующим образом: \n",
    "$$avg\\_speed= \\frac{total\\_distance}{1000*trip\\_duration}*3600$$\n",
    "Если мы построим диаграмму рассеяния средней скорости движения автомобилей, мы увидим следующую картину:\n"
   ]
  },
  {
   "cell_type": "code",
   "execution_count": null,
   "metadata": {
    "id": "Nnp1KatIkBLo"
   },
   "outputs": [],
   "source": [
    "avg_speed = taxi_data['total_distance'] / taxi_data['trip_duration'] * 3.6\n",
    "fig, ax = plt.subplots(figsize=(10, 5))\n",
    "sns.scatterplot(x=avg_speed.index, y=avg_speed, ax=ax)\n",
    "ax.set_xlabel('Index')\n",
    "ax.set_ylabel('Average speed');"
   ]
  },
  {
   "cell_type": "markdown",
   "metadata": {
    "id": "BGxXxv7LkBLo"
   },
   "source": [
    "Как раз отсюда мы видим, что у нас есть “поездки-телепортации”, для которых средняя скорость более 1000 км/ч. Даже есть такая, средняя скорость которой составляла более 12000 км/ч! \n",
    "\n",
    "Давайте условимся, что предельная средняя скорость, которую могут развивать таксисты будет 300 км/ч. \n"
   ]
  },
  {
   "cell_type": "markdown",
   "metadata": {
    "id": "sSWHdHNWkBLo",
    "tags": []
   },
   "source": [
    "### Задание 2.11.\n",
    "Найдите поездки, длительность которых превышает 24 часа. И удалите их из набора данных.\n",
    "\n",
    "а) Сколько выбросов по признаку длительности поездки вам удалось найти?\n",
    "\n",
    "Найдите поездки, средняя скорость которых по кратчайшему пути превышает 300 км/ч и удалите их из данных. \n",
    "\n",
    "б) Сколько выбросов по признаку скорости вам удалось найти?"
   ]
  },
  {
   "cell_type": "code",
   "execution_count": 17,
   "metadata": {
    "id": "3KVmlq8SkBLo"
   },
   "outputs": [
    {
     "name": "stdout",
     "output_type": "stream",
     "text": [
      "Количество поездок, длительность которых превышает 24 часа: 4\n"
     ]
    }
   ],
   "source": [
    "long_trips = taxi_data['trip_duration'] > 24*3600\n",
    "\n",
    "print(f'Количество поездок, длительность которых превышает 24 часа: {taxi_data[long_trips].shape[0]}')\n",
    "\n",
    "taxi_data = taxi_data.drop(taxi_data[long_trips].index)"
   ]
  },
  {
   "cell_type": "code",
   "execution_count": 18,
   "metadata": {},
   "outputs": [
    {
     "name": "stdout",
     "output_type": "stream",
     "text": [
      "Количество поездок, средняя скорость которых по кратчайшему пути превышает 300 км/ч: 407\n"
     ]
    }
   ],
   "source": [
    "high_speed_trips = taxi_data['total_distance'] / taxi_data['trip_duration'] * 3.6 > 300\n",
    "\n",
    "print(f'Количество поездок, средняя скорость которых по кратчайшему пути превышает 300 км/ч: {taxi_data[high_speed_trips].shape[0]}')\n",
    "\n",
    "taxi_data = taxi_data.drop(taxi_data[high_speed_trips].index)"
   ]
  },
  {
   "cell_type": "markdown",
   "metadata": {
    "id": "pEEXbpTfkBLo",
    "tags": []
   },
   "source": [
    "## 3. Разведывательный анализ данных (EDA)"
   ]
  },
  {
   "cell_type": "markdown",
   "metadata": {
    "id": "59de6wa-kBLo"
   },
   "source": [
    "В этой части нашего проекта мы с вами:\n",
    "* Исследуем сформированный набор данных; \n",
    "* Попробуем найти закономерности, позволяющие сформулировать предварительные гипотезы относительно того, какие факторы являются решающими в определении длительности поездки;\n",
    "* Дополним наш анализ визуализациями, иллюстрирующими; исследование. Постарайтесь оформлять диаграммы с душой, а не «для галочки»: навыки визуализации полученных выводов обязательно пригодятся вам в будущем.\n"
   ]
  },
  {
   "cell_type": "markdown",
   "metadata": {
    "id": "d-8PQtqRkBLo"
   },
   "source": [
    "Начинаем с целевого признака. Забегая вперед, скажем, что основной метрикой качества решения поставленной задачи будет RMSLE - Root Mean Squared Log Error, которая вычисляется на основе целевой переменной в логарифмическом масштабе. В таком случае целесообразно сразу логарифмировать признак длительности поездки и рассматривать при анализе логарифм в качестве целевого признака:\n",
    "$$trip\\_duration\\_log = log(trip\\_duration+1),$$\n",
    "где под символом log подразумевается натуральный логарифм.\n"
   ]
  },
  {
   "cell_type": "code",
   "execution_count": 19,
   "metadata": {
    "id": "y59BwN3MkBLp"
   },
   "outputs": [],
   "source": [
    "taxi_data['trip_duration_log'] = np.log(taxi_data['trip_duration']+1)"
   ]
  },
  {
   "cell_type": "markdown",
   "metadata": {
    "id": "OoqAWXLLkBLp"
   },
   "source": [
    "### Задание 3.1.\n",
    "Постройте гистограмму и коробчатую диаграмму длительности поездок в логарифмическом масштабе (trip_duration_log). \n",
    "Исходя из визуализации, сделайте предположение, является ли полученное распределение нормальным? \n",
    "Проверьте свою гипотезу с помощью теста Д’Агостино при уровне значимости $\\alpha=0.05$. \n",
    "\n",
    "а) Чему равен вычисленный p-value? Ответ округлите до сотых.\n",
    "\n",
    "б) Является ли распределение длительности поездок в логарифмическом масштабе нормальным?"
   ]
  },
  {
   "cell_type": "code",
   "execution_count": null,
   "metadata": {
    "_uuid": "4cea6d1f4372850e6c5692d7be7ca1cee3bdb42e",
    "id": "hSPVCtNckBLp",
    "tags": []
   },
   "outputs": [],
   "source": [
    "fig = go.Figure()\n",
    "\n",
    "fig.add_trace(go.Histogram(x=taxi_data['trip_duration_log'], marker_color='#007dff', name='', nbinsx=200))\n",
    "\n",
    "fig.update_traces(hoverinfo='all', hovertemplate='trip_duration_log: %{x}<br>value: %{y}')\n",
    "\n",
    "fig.update_layout(margin=dict(l=20, r=20, t=90, b=10), \n",
    "                  title='Distribution of trip_duration_log (LOG)', \n",
    "                  title_x = 0.5, title_font_size=25,\n",
    "                  bargap=0.2,\n",
    "                  showlegend=False)\n",
    "\n",
    "fig.update_xaxes(title_font=dict(size=16, family='Rockwell',), \n",
    "                 title_text='trip_duration_log',\n",
    "                 tickfont=dict(family='Rockwell', size=14))\n",
    "fig.update_yaxes(title_font=dict(size=16, family='Rockwell'), \n",
    "                 title_text='value',\n",
    "                 tickfont=dict(family='Rockwell', size=14))\n",
    "\n",
    "fig.show()"
   ]
  },
  {
   "cell_type": "code",
   "execution_count": null,
   "metadata": {},
   "outputs": [],
   "source": [
    "fig = go.Figure()\n",
    "\n",
    "fig.add_trace(go.Box(x=taxi_data['trip_duration_log'], marker_color='#007dff', name=''))\n",
    "\n",
    "fig.update_traces(hoverinfo='all', hovertemplate='trip_duration_log: %{x}<br>value: %{y}')\n",
    "\n",
    "fig.update_layout(margin=dict(l=20, r=20, t=90, b=10), \n",
    "                  title='Distribution of trip_duration_log (LOG)', \n",
    "                  title_x = 0.5, title_font_size=25,\n",
    "                  bargap=0.2,\n",
    "                  showlegend=False)\n",
    "\n",
    "fig.update_xaxes(title_font=dict(size=16, family='Rockwell',), \n",
    "                 title_text='trip_duration_log',\n",
    "                 tickfont=dict(family='Rockwell', size=14))\n",
    "fig.update_yaxes(title_font=dict(size=16, family='Rockwell'), \n",
    "                 title_text='value',\n",
    "                 tickfont=dict(family='Rockwell', size=14))\n",
    "\n",
    "fig.show()"
   ]
  },
  {
   "cell_type": "code",
   "execution_count": 22,
   "metadata": {},
   "outputs": [
    {
     "name": "stdout",
     "output_type": "stream",
     "text": [
      "Statistics=138350.166, p-value=0.000\n",
      "Данные не распределены нормально (мы отвергаем H0)\n"
     ]
    }
   ],
   "source": [
    "# установка гипотез (нулевой и альтернативной)\n",
    "H0 = 'Данные распределены нормально'\n",
    "Ha = 'Данные не распределены нормально (мы отвергаем H0)'\n",
    "# установка уровня значимости\n",
    "alpha = 0.05\n",
    "\n",
    "stat, p = stats.normaltest(taxi_data['trip_duration_log'])\n",
    "print('Statistics=%.3f, p-value=%.3f' % (stat, p))\n",
    "\n",
    "# bнтерпретация \n",
    "if p > alpha:\n",
    "\tprint(H0)\n",
    "else:\n",
    "\tprint(Ha)"
   ]
  },
  {
   "cell_type": "markdown",
   "metadata": {
    "id": "teZmcjlIkBLp"
   },
   "source": [
    "### Задание 3.2.\n",
    "Постройте визуализацию, которая позволит сравнить распределение длительности поездки в логарифмическом масштабе (trip_duration_log) в зависимости от таксопарка (vendor_id). \n",
    "\n",
    "Сравните два распределения между собой."
   ]
  },
  {
   "cell_type": "code",
   "execution_count": null,
   "metadata": {
    "id": "SfyhOuOYkBLp"
   },
   "outputs": [],
   "source": [
    "vendor_1 = taxi_data['vendor_id'] == 1\n",
    "vendor_2 = taxi_data['vendor_id'] == 2\n",
    "\n",
    "fig = go.Figure()\n",
    "\n",
    "fig.add_trace(go.Histogram(x=taxi_data[vendor_1]['trip_duration_log'], name='vendor_1', marker_color='#007dff', nbinsx=100))\n",
    "fig.add_trace(go.Histogram(x=taxi_data[vendor_2]['trip_duration_log'], name='vendor_2', marker_color='#e75300', nbinsx=100))\n",
    "\n",
    "fig.update_traces(hoverinfo=\"all\", hovertemplate=\"trip_duration_log: %{x}<br>value: %{y}\")\n",
    "\n",
    "fig.update_layout(margin=dict(l=20, r=20, t=90, b=10), \n",
    "                  title='Distribution of trip_duration_log on vendors', \n",
    "                  title_x = 0.5, title_font_size=25,\n",
    "                  legend_orientation=\"h\", legend=dict(x=.2, xanchor=\"center\"),\n",
    "                  height=600)\n",
    "\n",
    "fig.update_xaxes(title_font=dict(size=16, family='Rockwell',), \n",
    "                 title_text='trip_duration_log',\n",
    "                 tickfont=dict(family='Rockwell', size=14))\n",
    "fig.update_yaxes(title_font=dict(size=16, family='Rockwell'), \n",
    "                 title_text='value',\n",
    "                 tickfont=dict(family='Rockwell', size=14))\n",
    "\n",
    "fig.show()"
   ]
  },
  {
   "cell_type": "code",
   "execution_count": null,
   "metadata": {},
   "outputs": [],
   "source": [
    "fig = go.Figure()\n",
    "\n",
    "fig.add_trace(go.Box(x=taxi_data[vendor_1]['trip_duration_log'], name='vendor_1', marker_color='#007dff'))\n",
    "fig.add_trace(go.Box(x=taxi_data[vendor_2]['trip_duration_log'], name='vendor_2', marker_color='#e75300'))\n",
    "\n",
    "fig.update_traces(hoverinfo=\"all\", hovertemplate=\"trip_duration_log: %{x}<br>value: %{y}\")\n",
    "\n",
    "fig.update_layout(margin=dict(l=20, r=20, t=90, b=10), \n",
    "                  title='Distribution of trip_duration_log on vendors', \n",
    "                  title_x = 0.5, title_font_size=25,\n",
    "                  legend_orientation=\"h\", legend=dict(x=.2, xanchor=\"center\"),\n",
    "                  height=600)\n",
    "\n",
    "fig.update_xaxes(title_font=dict(size=16, family='Rockwell',), \n",
    "                 title_text='trip_duration_log',\n",
    "                 tickfont=dict(family='Rockwell', size=14))\n",
    "fig.update_yaxes(title_font=dict(size=16, family='Rockwell'), \n",
    "                 title_text='value',\n",
    "                 tickfont=dict(family='Rockwell', size=14))\n",
    "\n",
    "fig.show()"
   ]
  },
  {
   "cell_type": "markdown",
   "metadata": {},
   "source": [
    "Распределения в группах практически не отличаются, признак vendor_id не имеет значения при определении длительности поездки."
   ]
  },
  {
   "cell_type": "markdown",
   "metadata": {
    "id": "Gq7d2zjjkBLp"
   },
   "source": [
    "### Задание 3.3.\n",
    "Постройте визуализацию, которая позволит сравнить распределение длительности поездки в логарифмическом масштабе (trip_duration_log) в зависимости от признака отправки сообщения поставщику (store_and_fwd_flag). \n",
    "\n",
    "Сравните два распределения между собой."
   ]
  },
  {
   "cell_type": "code",
   "execution_count": null,
   "metadata": {
    "id": "3If4bSdEkBLp"
   },
   "outputs": [],
   "source": [
    "flag_N = taxi_data['store_and_fwd_flag'] == 'N'\n",
    "flag_Y = taxi_data['store_and_fwd_flag'] == 'Y'\n",
    "\n",
    "fig = go.Figure()\n",
    "\n",
    "fig.add_trace(go.Histogram(x=taxi_data[flag_N]['trip_duration_log'], name='flag_N', marker_color='#007dff', nbinsx=100))\n",
    "fig.add_trace(go.Histogram(x=taxi_data[flag_Y]['trip_duration_log'], name='flag_Y', marker_color='#e75300', nbinsx=100))\n",
    "\n",
    "fig.update_traces(hoverinfo=\"all\", hovertemplate=\"trip_duration_log: %{x}<br>value: %{y}\")\n",
    "\n",
    "fig.update_layout(margin=dict(l=20, r=20, t=90, b=10), \n",
    "                  title='Distribution of trip_duration_log on store_and_fwd_flag', \n",
    "                  title_x = 0.5, title_font_size=25,\n",
    "                  legend_orientation=\"h\", legend=dict(x=.2, xanchor=\"center\"),\n",
    "                  height=600)\n",
    "\n",
    "fig.update_xaxes(title_font=dict(size=16, family='Rockwell',), \n",
    "                 title_text='trip_duration_log',\n",
    "                 tickfont=dict(family='Rockwell', size=14))\n",
    "fig.update_yaxes(title_font=dict(size=16, family='Rockwell'), \n",
    "                 title_text='value',\n",
    "                 tickfont=dict(family='Rockwell', size=14))\n",
    "\n",
    "fig.show()"
   ]
  },
  {
   "cell_type": "markdown",
   "metadata": {},
   "source": [
    "Распределения в группах значительно отличаются, признак store_and_fwd_flag имеет значение при определении длительности поездки."
   ]
  },
  {
   "cell_type": "markdown",
   "metadata": {
    "id": "ThgfBISekBLp"
   },
   "source": [
    "### Задание 3.4.\n",
    "Постройте две визуализации:\n",
    "* Распределение количества поездок в зависимости от часа дня;\n",
    "* Зависимость медианной длительности поездки от часа дня.\n",
    "\n",
    "На основе построенных графиков ответьте на следующие вопросы:\n",
    "\n",
    "а) В какое время суток такси заказывают реже всего?\n",
    "\n",
    "б) В какое время суток наблюдается пик медианной длительности поездок?"
   ]
  },
  {
   "cell_type": "code",
   "execution_count": null,
   "metadata": {
    "id": "b7tRWY_BkBLq"
   },
   "outputs": [],
   "source": [
    "fig = go.Figure()\n",
    "\n",
    "fig.add_trace(go.Histogram(x=taxi_data['pickup_hour'], marker_color='#007dff', name=''))\n",
    "\n",
    "fig.update_traces(hoverinfo='all', hovertemplate='hour of the day: %{x}<br>number of trips: %{y}')\n",
    "\n",
    "fig.update_layout(margin=dict(l=20, r=20, t=90, b=10), \n",
    "                  title='Distribution of the number of trips from hour of the day', \n",
    "                  title_x = 0.5, title_font_size=25,\n",
    "                  bargap=0.2,\n",
    "                  showlegend=False)\n",
    "\n",
    "fig.update_xaxes(title_font=dict(size=16, family='Rockwell',), \n",
    "                 title_text='hour of the day',\n",
    "                 tickfont=dict(family='Rockwell', size=14))\n",
    "fig.update_yaxes(title_font=dict(size=16, family='Rockwell'), \n",
    "                 title_text='number of trips',\n",
    "                 tickfont=dict(family='Rockwell', size=14))\n",
    "\n",
    "fig.show()"
   ]
  },
  {
   "cell_type": "code",
   "execution_count": null,
   "metadata": {},
   "outputs": [],
   "source": [
    "data = taxi_data.groupby('pickup_hour')['trip_duration'].median()\n",
    "\n",
    "fig = go.Figure()\n",
    "\n",
    "fig.add_trace(go.Bar(x=data.index, y=data, marker_color='#007dff', name=''))\n",
    "\n",
    "fig.update_traces(hoverinfo='all', hovertemplate='hour of the day: %{x}<br>median number of trips: %{y}')\n",
    "\n",
    "fig.update_layout(margin=dict(l=20, r=20, t=90, b=10), \n",
    "                  title='Distribution of the median number of trips from hour of the day', \n",
    "                  title_x = 0.5, title_font_size=25,\n",
    "                  bargap=0.2,\n",
    "                  showlegend=False)\n",
    "\n",
    "fig.update_xaxes(title_font=dict(size=16, family='Rockwell',), \n",
    "                 title_text='hour of the day',\n",
    "                 tickfont=dict(family='Rockwell', size=14))\n",
    "fig.update_yaxes(title_font=dict(size=16, family='Rockwell'), \n",
    "                 title_text='median number of trips',\n",
    "                 tickfont=dict(family='Rockwell', size=14))\n",
    "\n",
    "fig.show()"
   ]
  },
  {
   "cell_type": "markdown",
   "metadata": {},
   "source": [
    "Такси заказывают реже всего с 0 до 5 часов.\n",
    "\n",
    "Пик медианной длительности поездок наблюдается с 13 до 18 часов."
   ]
  },
  {
   "cell_type": "markdown",
   "metadata": {
    "id": "GmHyGkbzkBLq"
   },
   "source": [
    "### Задание 3.5.\n",
    "Постройте две визуализации:\n",
    "* Распределение количества поездок в зависимости от дня недели;\n",
    "*  Зависимость медианной длительности поездки от дня недели.\n",
    "\n",
    "На основе построенных графиков ответьте на следующие вопросы:\n",
    "а) В какой день недели совершается больше всего поездок?\n",
    "б) В какой день недели медианная длительность поездок наименьшая?\n"
   ]
  },
  {
   "cell_type": "code",
   "execution_count": null,
   "metadata": {},
   "outputs": [],
   "source": [
    "fig = go.Figure()\n",
    "\n",
    "fig.add_trace(go.Histogram(x=taxi_data['pickup_day_of_week'], marker_color='#007dff', name=''))\n",
    "\n",
    "fig.update_traces(hoverinfo='all', hovertemplate='day of week: %{x}<br>number of trips: %{y}')\n",
    "\n",
    "fig.update_layout(margin=dict(l=20, r=20, t=90, b=10), \n",
    "                  title='Distribution of the number of trips from the day of week', \n",
    "                  title_x = 0.5, title_font_size=25,\n",
    "                  bargap=0.2,\n",
    "                  showlegend=False)\n",
    "\n",
    "fig.update_xaxes(title_font=dict(size=16, family='Rockwell',), \n",
    "                 title_text='day of week',\n",
    "                 tickfont=dict(family='Rockwell', size=14))\n",
    "fig.update_yaxes(title_font=dict(size=16, family='Rockwell'), \n",
    "                 title_text='number of trips',\n",
    "                 tickfont=dict(family='Rockwell', size=14))\n",
    "\n",
    "fig.show()"
   ]
  },
  {
   "cell_type": "code",
   "execution_count": null,
   "metadata": {},
   "outputs": [],
   "source": [
    "data = taxi_data.groupby('pickup_day_of_week')['trip_duration'].median()\n",
    "\n",
    "fig = go.Figure()\n",
    "\n",
    "fig.add_trace(go.Bar(x=data.index, y=data, marker_color='#007dff', name=''))\n",
    "\n",
    "fig.update_traces(hoverinfo='all', hovertemplate='day of week: %{x}<br>median number of trips: %{y}')\n",
    "\n",
    "fig.update_layout(margin=dict(l=20, r=20, t=90, b=10), \n",
    "                  title='Distribution of the median number of trips from the day of week', \n",
    "                  title_x = 0.5, title_font_size=20,\n",
    "                  bargap=0.2,\n",
    "                  showlegend=False)\n",
    "\n",
    "fig.update_xaxes(title_font=dict(size=16, family='Rockwell',), \n",
    "                 title_text='day of week',\n",
    "                 tickfont=dict(family='Rockwell', size=14))\n",
    "fig.update_yaxes(title_font=dict(size=16, family='Rockwell'), \n",
    "                 title_text='median number of trips',\n",
    "                 tickfont=dict(family='Rockwell', size=14))\n",
    "\n",
    "fig.show()"
   ]
  },
  {
   "cell_type": "markdown",
   "metadata": {},
   "source": [
    "Больше всего поездок совершается в пятницу.\n",
    "\n",
    "Медианная длительность поездок наименьшая в воскресенье."
   ]
  },
  {
   "cell_type": "markdown",
   "metadata": {
    "id": "KSRSS4tekBLq"
   },
   "source": [
    "### Задание 3.6.\n",
    "Посмотрим на обе временные характеристики одновременно. \n",
    "\n",
    "Постройте сводную таблицу, по строкам которой отложены часы (pickup_hour), по столбцам - дни недели (pickup_day_of_week), а в ячейках - медианная длительность поездки (trip_duration). \n",
    "\n",
    "Визуализируйте полученную сводную таблицу с помощью тепловой карты (рекомендуемая палитра - coolwarm)."
   ]
  },
  {
   "cell_type": "code",
   "execution_count": null,
   "metadata": {},
   "outputs": [],
   "source": [
    "data_pivot = pd.pivot_table(\n",
    "    data=taxi_data,\n",
    "    index='pickup_hour',\n",
    "    columns='pickup_day_of_week',\n",
    "    values='trip_duration',\n",
    "    aggfunc='median'\n",
    ")\n",
    "\n",
    "fig = go.Figure(data=go.Heatmap(\n",
    "                   x=data_pivot.columns,\n",
    "                   y=data_pivot.index,\n",
    "                   z=data_pivot,\n",
    "                   hoverongaps = True,\n",
    "                   name=''))\n",
    "\n",
    "fig.update_traces(hoverinfo=\"all\", \n",
    "                  hovertemplate=\"Day of week: %{x}<br>Hour of the day: %{y}<br>median trip duration: %{z}\")\n",
    "\n",
    "fig.update_layout(margin=dict(l=20, r=20, t=90, b=20), \n",
    "                  title='Dependence of the median trip duration on the day of the week and the hour of the day', \n",
    "                  title_x = 0.5, title_font_size=16,\n",
    "                  legend_orientation=\"h\", legend=dict(x=.5, xanchor=\"center\"),\n",
    "                  height=600)\n",
    "\n",
    "fig.update_xaxes(title_font=dict(size=16, family='Rockwell'), \n",
    "                 title_text='Day of week',\n",
    "                 tickfont=dict(family='Rockwell', size=14))\n",
    "fig.update_yaxes(title_font=dict(size=16, family='Rockwell'), \n",
    "                 title_text='Hour of the day',\n",
    "                 tickfont=dict(family='Rockwell', size=14))\n",
    "\n",
    "fig.show()"
   ]
  },
  {
   "cell_type": "markdown",
   "metadata": {
    "id": "E5P2WBT6kBLq",
    "tags": []
   },
   "source": [
    "### Задание 3.7.\n",
    "Постройте две диаграммы рассеяния (scatter-диаграммы):\n",
    "* первая должна иллюстрировать географическое расположение точек начала поездок (pickup_longitude, pickup_latitude) \n",
    "* вторая должна географическое расположение точек завершения поездок (dropoff_longitude, dropoff_latitude).\n",
    "\n",
    "Для этого на диаграммах по оси абсцисс отложите широту (longitude), а по оси ординат - долготу (latitude). \n",
    "Включите в визуализацию только те точки, которые находятся в пределах Нью-Йорка - добавьте следующие ограничения на границы осей абсцисс и ординат:\n",
    " \n",
    "city_long_border = (-74.03, -73.75)\n",
    "\n",
    "city_lat_border = (40.63, 40.85)\n",
    "\n",
    "Добавьте на диаграммы расцветку по десяти географическим кластерам (geo_cluster), которые мы сгенерировали ранее. \n",
    "\n",
    "**Рекомендация:** для наглядности уменьшите размер точек на диаграмме рассеяния.  \n"
   ]
  },
  {
   "cell_type": "code",
   "execution_count": null,
   "metadata": {
    "id": "T0Wd1q_PkBLq"
   },
   "outputs": [],
   "source": [
    "# ограничения по координатам\n",
    "long = (taxi_data['pickup_longitude'] >= -74.03) & (taxi_data['pickup_longitude'] <= -73.75)\n",
    "lat = (taxi_data['pickup_latitude'] >= 40.63) & (taxi_data['pickup_latitude'] <= 40.85)\n",
    "# таблица с ограничениями по координатам\n",
    "data = taxi_data[long & lat]\n",
    "\n",
    "fig = make_subplots(rows=1, cols=2, \n",
    "                    x_title='pickup_longitude',\n",
    "                    y_title='pickup_latitude',\n",
    "                    subplot_titles=('Coordinates of the start of trips', 'Coordinates of the end of trips'))\n",
    "\n",
    "clusters = set(data['geo_cluster'].values)\n",
    "\n",
    "for i in clusters:\n",
    "    fig.add_trace(go.Scattergl(x = data[data['geo_cluster'] == i]['pickup_longitude'],\n",
    "                               y = data[data['geo_cluster'] == i]['pickup_latitude'],\n",
    "                               name='geo_claster_' + str(i),\n",
    "                               mode = 'markers',\n",
    "                               marker=dict(size=1)),\n",
    "                  1, 1)\n",
    "\n",
    "for i in clusters:\n",
    "    fig.add_trace(go.Scattergl(x = data[data['geo_cluster'] == i]['pickup_longitude'],\n",
    "                               y = data[data['geo_cluster'] == i]['pickup_latitude'],\n",
    "                               name='geo_claster_' + str(i),\n",
    "                               mode = 'markers',\n",
    "                               marker=dict(size=1)),\n",
    "                  1, 2)\n",
    "    \n",
    "fig.show()"
   ]
  },
  {
   "cell_type": "markdown",
   "metadata": {
    "id": "cSKZEkO4kBLq"
   },
   "source": [
    "## 4. Отбор и преобразование признаков"
   ]
  },
  {
   "cell_type": "markdown",
   "metadata": {
    "id": "Erg_Ejz1kBLr"
   },
   "source": [
    "Перед тем как перейти к построению модели, осталось сделать ещё несколько шагов.\n",
    "* Следует помнить, что многие алгоритмы машинного обучения не могут обрабатывать категориальные признаки в их обычном виде. Поэтому нам необходимо их закодировать;\n",
    "* Надо отобрать признаки, которые мы будем использовать для обучения модели;\n",
    "*  Необходимо масштабировать и трансформировать некоторые признаки для того, чтобы улучшить сходимость моделей, в основе которых лежат численные методы.\n"
   ]
  },
  {
   "cell_type": "code",
   "execution_count": 32,
   "metadata": {
    "id": "N7MHv9HKkBLr"
   },
   "outputs": [
    {
     "name": "stdout",
     "output_type": "stream",
     "text": [
      "Shape of data: (1458233, 27)\n",
      "Columns: Index(['id', 'vendor_id', 'pickup_datetime', 'dropoff_datetime',\n",
      "       'passenger_count', 'pickup_longitude', 'pickup_latitude',\n",
      "       'dropoff_longitude', 'dropoff_latitude', 'store_and_fwd_flag',\n",
      "       'trip_duration', 'pickup_date', 'pickup_hour', 'pickup_day_of_week',\n",
      "       'pickup_holiday', 'total_distance', 'total_travel_time',\n",
      "       'number_of_steps', 'haversine_distance', 'direction', 'geo_cluster',\n",
      "       'temperature', 'visibility', 'wind speed', 'precip', 'events',\n",
      "       'trip_duration_log'],\n",
      "      dtype='object')\n"
     ]
    }
   ],
   "source": [
    "print('Shape of data: {}'.format(taxi_data.shape))\n",
    "print('Columns: {}'.format(taxi_data.columns))"
   ]
  },
  {
   "cell_type": "markdown",
   "metadata": {
    "id": "j6sgAOFqkBLr"
   },
   "source": [
    "Для удобства работы сделаем копию исходной таблицы с поездками:"
   ]
  },
  {
   "cell_type": "code",
   "execution_count": 33,
   "metadata": {
    "id": "7rxobyQFkBLr"
   },
   "outputs": [
    {
     "data": {
      "text/html": [
       "<div>\n",
       "<style scoped>\n",
       "    .dataframe tbody tr th:only-of-type {\n",
       "        vertical-align: middle;\n",
       "    }\n",
       "\n",
       "    .dataframe tbody tr th {\n",
       "        vertical-align: top;\n",
       "    }\n",
       "\n",
       "    .dataframe thead th {\n",
       "        text-align: right;\n",
       "    }\n",
       "</style>\n",
       "<table border=\"1\" class=\"dataframe\">\n",
       "  <thead>\n",
       "    <tr style=\"text-align: right;\">\n",
       "      <th></th>\n",
       "      <th>id</th>\n",
       "      <th>vendor_id</th>\n",
       "      <th>pickup_datetime</th>\n",
       "      <th>dropoff_datetime</th>\n",
       "      <th>passenger_count</th>\n",
       "      <th>pickup_longitude</th>\n",
       "      <th>pickup_latitude</th>\n",
       "      <th>dropoff_longitude</th>\n",
       "      <th>dropoff_latitude</th>\n",
       "      <th>store_and_fwd_flag</th>\n",
       "      <th>...</th>\n",
       "      <th>number_of_steps</th>\n",
       "      <th>haversine_distance</th>\n",
       "      <th>direction</th>\n",
       "      <th>geo_cluster</th>\n",
       "      <th>temperature</th>\n",
       "      <th>visibility</th>\n",
       "      <th>wind speed</th>\n",
       "      <th>precip</th>\n",
       "      <th>events</th>\n",
       "      <th>trip_duration_log</th>\n",
       "    </tr>\n",
       "  </thead>\n",
       "  <tbody>\n",
       "    <tr>\n",
       "      <th>0</th>\n",
       "      <td>id2875421</td>\n",
       "      <td>2</td>\n",
       "      <td>2016-03-14 17:24:55</td>\n",
       "      <td>2016-03-14 17:32:30</td>\n",
       "      <td>1</td>\n",
       "      <td>-73.982155</td>\n",
       "      <td>40.767937</td>\n",
       "      <td>-73.964630</td>\n",
       "      <td>40.765602</td>\n",
       "      <td>N</td>\n",
       "      <td>...</td>\n",
       "      <td>5.0</td>\n",
       "      <td>1.498521</td>\n",
       "      <td>99.970196</td>\n",
       "      <td>0</td>\n",
       "      <td>4.4</td>\n",
       "      <td>8.0</td>\n",
       "      <td>27.8</td>\n",
       "      <td>0.3</td>\n",
       "      <td>None</td>\n",
       "      <td>6.122493</td>\n",
       "    </tr>\n",
       "    <tr>\n",
       "      <th>1</th>\n",
       "      <td>id2377394</td>\n",
       "      <td>1</td>\n",
       "      <td>2016-06-12 00:43:35</td>\n",
       "      <td>2016-06-12 00:54:38</td>\n",
       "      <td>1</td>\n",
       "      <td>-73.980415</td>\n",
       "      <td>40.738564</td>\n",
       "      <td>-73.999481</td>\n",
       "      <td>40.731152</td>\n",
       "      <td>N</td>\n",
       "      <td>...</td>\n",
       "      <td>6.0</td>\n",
       "      <td>1.805507</td>\n",
       "      <td>-117.153768</td>\n",
       "      <td>6</td>\n",
       "      <td>28.9</td>\n",
       "      <td>16.1</td>\n",
       "      <td>7.4</td>\n",
       "      <td>0.0</td>\n",
       "      <td>None</td>\n",
       "      <td>6.498282</td>\n",
       "    </tr>\n",
       "    <tr>\n",
       "      <th>2</th>\n",
       "      <td>id3858529</td>\n",
       "      <td>2</td>\n",
       "      <td>2016-01-19 11:35:24</td>\n",
       "      <td>2016-01-19 12:10:48</td>\n",
       "      <td>1</td>\n",
       "      <td>-73.979027</td>\n",
       "      <td>40.763939</td>\n",
       "      <td>-74.005333</td>\n",
       "      <td>40.710087</td>\n",
       "      <td>N</td>\n",
       "      <td>...</td>\n",
       "      <td>16.0</td>\n",
       "      <td>6.385098</td>\n",
       "      <td>-159.680165</td>\n",
       "      <td>6</td>\n",
       "      <td>-6.7</td>\n",
       "      <td>16.1</td>\n",
       "      <td>24.1</td>\n",
       "      <td>0.0</td>\n",
       "      <td>None</td>\n",
       "      <td>7.661527</td>\n",
       "    </tr>\n",
       "    <tr>\n",
       "      <th>3</th>\n",
       "      <td>id3504673</td>\n",
       "      <td>2</td>\n",
       "      <td>2016-04-06 19:32:31</td>\n",
       "      <td>2016-04-06 19:39:40</td>\n",
       "      <td>1</td>\n",
       "      <td>-74.010040</td>\n",
       "      <td>40.719971</td>\n",
       "      <td>-74.012268</td>\n",
       "      <td>40.706718</td>\n",
       "      <td>N</td>\n",
       "      <td>...</td>\n",
       "      <td>4.0</td>\n",
       "      <td>1.485498</td>\n",
       "      <td>-172.737700</td>\n",
       "      <td>6</td>\n",
       "      <td>7.2</td>\n",
       "      <td>16.1</td>\n",
       "      <td>25.9</td>\n",
       "      <td>0.0</td>\n",
       "      <td>None</td>\n",
       "      <td>6.063785</td>\n",
       "    </tr>\n",
       "    <tr>\n",
       "      <th>4</th>\n",
       "      <td>id2181028</td>\n",
       "      <td>2</td>\n",
       "      <td>2016-03-26 13:30:55</td>\n",
       "      <td>2016-03-26 13:38:10</td>\n",
       "      <td>1</td>\n",
       "      <td>-73.973053</td>\n",
       "      <td>40.793209</td>\n",
       "      <td>-73.972923</td>\n",
       "      <td>40.782520</td>\n",
       "      <td>N</td>\n",
       "      <td>...</td>\n",
       "      <td>5.0</td>\n",
       "      <td>1.188588</td>\n",
       "      <td>179.473585</td>\n",
       "      <td>0</td>\n",
       "      <td>9.4</td>\n",
       "      <td>16.1</td>\n",
       "      <td>9.3</td>\n",
       "      <td>0.0</td>\n",
       "      <td>None</td>\n",
       "      <td>6.077642</td>\n",
       "    </tr>\n",
       "  </tbody>\n",
       "</table>\n",
       "<p>5 rows × 27 columns</p>\n",
       "</div>"
      ],
      "text/plain": [
       "          id  vendor_id     pickup_datetime     dropoff_datetime  \\\n",
       "0  id2875421          2 2016-03-14 17:24:55  2016-03-14 17:32:30   \n",
       "1  id2377394          1 2016-06-12 00:43:35  2016-06-12 00:54:38   \n",
       "2  id3858529          2 2016-01-19 11:35:24  2016-01-19 12:10:48   \n",
       "3  id3504673          2 2016-04-06 19:32:31  2016-04-06 19:39:40   \n",
       "4  id2181028          2 2016-03-26 13:30:55  2016-03-26 13:38:10   \n",
       "\n",
       "   passenger_count  pickup_longitude  pickup_latitude  dropoff_longitude  \\\n",
       "0                1        -73.982155        40.767937         -73.964630   \n",
       "1                1        -73.980415        40.738564         -73.999481   \n",
       "2                1        -73.979027        40.763939         -74.005333   \n",
       "3                1        -74.010040        40.719971         -74.012268   \n",
       "4                1        -73.973053        40.793209         -73.972923   \n",
       "\n",
       "   dropoff_latitude store_and_fwd_flag  ...  number_of_steps  \\\n",
       "0         40.765602                  N  ...              5.0   \n",
       "1         40.731152                  N  ...              6.0   \n",
       "2         40.710087                  N  ...             16.0   \n",
       "3         40.706718                  N  ...              4.0   \n",
       "4         40.782520                  N  ...              5.0   \n",
       "\n",
       "  haversine_distance   direction geo_cluster  temperature  visibility  \\\n",
       "0           1.498521   99.970196           0          4.4         8.0   \n",
       "1           1.805507 -117.153768           6         28.9        16.1   \n",
       "2           6.385098 -159.680165           6         -6.7        16.1   \n",
       "3           1.485498 -172.737700           6          7.2        16.1   \n",
       "4           1.188588  179.473585           0          9.4        16.1   \n",
       "\n",
       "   wind speed  precip  events  trip_duration_log  \n",
       "0        27.8     0.3    None           6.122493  \n",
       "1         7.4     0.0    None           6.498282  \n",
       "2        24.1     0.0    None           7.661527  \n",
       "3        25.9     0.0    None           6.063785  \n",
       "4         9.3     0.0    None           6.077642  \n",
       "\n",
       "[5 rows x 27 columns]"
      ]
     },
     "execution_count": 33,
     "metadata": {},
     "output_type": "execute_result"
    }
   ],
   "source": [
    "train_data = taxi_data.copy()\n",
    "train_data.head()"
   ]
  },
  {
   "cell_type": "markdown",
   "metadata": {
    "id": "U7i7DFBdkBLr"
   },
   "source": [
    "### Задание 4.1.\n",
    "Сразу позаботимся об очевидных неинформативных и избыточных признаках. \n",
    "\n",
    "а) Какой из признаков является уникальным для каждой поездки и не несет полезной информации в определении ее продолжительности?\n",
    "\n",
    "б) Утечка данных (data leak) - это…\n",
    "\n",
    "в) Подумайте, наличие какого из признаков в обучающем наборе данных создает утечку данных?\n",
    "\n",
    "г) Исключите выбранные в пунктах а) и в) признаки из исходной таблицы с данными. Сколько столбцов в таблице у вас осталось?\n"
   ]
  },
  {
   "cell_type": "code",
   "execution_count": 34,
   "metadata": {
    "id": "-hg53Bv1kBLr"
   },
   "outputs": [
    {
     "name": "stdout",
     "output_type": "stream",
     "text": [
      "Уникальным признаком для каждой поездки, который не несет полезной информации в определении ее продолжительности, явлется признак id.\n",
      "Утечка данных (data leak) - это ситуация, в которой данные используемые для обучения модели, содержат прямую или косвенную информацию о целевой переменной, но эти данные недоступны в реальных условиях.\n",
      "Наличие признака dropoff_datetime в обучающем наборе данных создает утечку данных.\n",
      "Осталось 25 признаков.\n"
     ]
    }
   ],
   "source": [
    "print('Уникальным признаком для каждой поездки, который не несет полезной информации в определении ее продолжительности, явлется признак id.')\n",
    "print('Утечка данных (data leak) - это ситуация, в которой данные используемые для обучения модели, содержат прямую или косвенную информацию о целевой переменной, но эти данные недоступны в реальных условиях.')\n",
    "print('Наличие признака dropoff_datetime в обучающем наборе данных создает утечку данных.')\n",
    "train_data.drop(['id', 'dropoff_datetime'], axis=1, inplace=True)\n",
    "print('Осталось 25 признаков.')"
   ]
  },
  {
   "cell_type": "markdown",
   "metadata": {
    "id": "NHyYd7XzkBLr"
   },
   "source": [
    "Ранее мы извлекли всю необходимую для нас информацию из даты начала поездки, теперь мы можем избавиться от этих признаков, так как они нам больше не понадобятся:\n"
   ]
  },
  {
   "cell_type": "code",
   "execution_count": 35,
   "metadata": {
    "id": "nzO9ioMHkBLs"
   },
   "outputs": [
    {
     "name": "stdout",
     "output_type": "stream",
     "text": [
      "Shape of data:  (1458233, 23)\n"
     ]
    }
   ],
   "source": [
    "drop_columns = ['pickup_datetime', 'pickup_date']\n",
    "train_data = train_data.drop(drop_columns, axis=1)\n",
    "print('Shape of data:  {}'.format(train_data.shape))"
   ]
  },
  {
   "cell_type": "markdown",
   "metadata": {
    "id": "cXHbkc3ykBLs"
   },
   "source": [
    "### Задание 4.2.\n",
    "\n",
    "Закодируйте признак vendor_id в таблице train_data таким образом, чтобы он был равен 0, если идентификатор таксопарка равен 1, и 1 — в противном случае.\n",
    "\n",
    "Закодируйте признак store_and_fwd_flag в таблице train_data таким образом, чтобы он был равен 0, если флаг выставлен в значение 'N', и 1 — в противном случае.\n",
    "\n",
    "а) Рассчитайте среднее по закодированному столбцу vendor_id. Ответ приведите с точностью до сотых.\n",
    "\n",
    "б) Рассчитайте среднее по закодированному столбцу store_and_fwd_flag. Ответ приведите с точностью до тысячных.\n",
    "\n"
   ]
  },
  {
   "cell_type": "code",
   "execution_count": 36,
   "metadata": {
    "id": "_O1jJaZtkBLs"
   },
   "outputs": [
    {
     "name": "stdout",
     "output_type": "stream",
     "text": [
      "Среднее по закодированному столбцу vendor_id: 0.53\n",
      "Среднее по закодированному столбцу store_and_fwd_flag: 0.006\n"
     ]
    }
   ],
   "source": [
    "train_data['vendor_id'] = train_data['vendor_id'].apply(lambda x: 0 if x == 1 else 1)\n",
    "train_data['store_and_fwd_flag'] = train_data['store_and_fwd_flag'].apply(lambda x: 0 if x == 'N' else 1)\n",
    "\n",
    "print(f'Среднее по закодированному столбцу vendor_id: {round(train_data[\"vendor_id\"].mean(), 2)}')\n",
    "print(f'Среднее по закодированному столбцу store_and_fwd_flag: {round(train_data[\"store_and_fwd_flag\"].mean(), 3)}')"
   ]
  },
  {
   "cell_type": "markdown",
   "metadata": {
    "id": "XMUmtLu1kBLs"
   },
   "source": [
    "### Задание 4.3.\n",
    "Создайте таблицу data_onehot из закодированных однократным кодированием признаков pickup_day_of_week, geo_cluster и events в таблице train_data с помощью OneHotEncoder из библиотеки sklearn. Параметр drop выставите в значение 'first', чтобы удалять первый бинарный столбец, тем самым не создавая излишних признаков.\n",
    "\n",
    "В результате работы OneHotEncoder вы получите безымянный numpy-массив, который нам будет необходимо преобразовать обратно в DataFrame, для более удобной работы в дальнейшем. Чтобы получить имена закодированных столбцов у объекта типа OneHotEncoder есть специальный метод get_feature_names_out(). Он возвращает список новых закодированных имен столбцов в формате <оригинальное имя столбца>_<имя категории>.\n",
    "\n",
    "Пример использования:\n",
    "\n",
    "``` python\n",
    "# Получаем закодированные имена столбцов\n",
    "column_names = one_hot_encoder.get_feature_names_out()\n",
    "# Составляем DataFrame из закодированных признаков\n",
    "data_onehot = pd.DataFrame(data_onehot, columns=column_names)\n",
    "```\n",
    "\n",
    "В этом псевдокоде:\n",
    "* one_hot_encoder - объект класса OneHotEncoder\n",
    "* data_onehot - numpy-массив, полученный в результате трансформации кодировщиком\n",
    "\n",
    "В результате выполнения задания у вас должен быть образован DataFrame `data_onehot`, который содержит кодированные категориальные признаки pickup_day_of_week, geo_cluster и events. \n",
    "\n",
    "\n",
    "Сколько бинарных столбцов у вас получилось сгенерировать с помощью однократного кодирования?\n"
   ]
  },
  {
   "cell_type": "code",
   "execution_count": 37,
   "metadata": {
    "id": "BonLFJbhkBLs"
   },
   "outputs": [
    {
     "name": "stdout",
     "output_type": "stream",
     "text": [
      "Количество новых бинарных столбцов: 18\n"
     ]
    }
   ],
   "source": [
    "# создаем объект класса OneHotEncoder, с удалением оригинального признака\n",
    "one_hot_encoder = preprocessing.OneHotEncoder(drop='first') \n",
    "# список признаков для кодирования\n",
    "columns_to_change = ['pickup_day_of_week', 'geo_cluster', 'events']\n",
    "\n",
    "# одновременно обучаем кодировщик и кодируем данные с переводом результата в массив numpy\n",
    "data_onehot = one_hot_encoder.fit_transform(train_data[columns_to_change]).toarray()\n",
    "\n",
    "# получаем закодированные имена столбцов\n",
    "column_names = one_hot_encoder.get_feature_names_out()\n",
    "\n",
    "# составляем DataFrame из закодированных признаков\n",
    "data_onehot = pd.DataFrame(data_onehot, columns = column_names)\n",
    "\n",
    "print(f'Количество новых бинарных столбцов: {data_onehot.shape[1]}')"
   ]
  },
  {
   "cell_type": "markdown",
   "metadata": {
    "id": "AsGsYqHRkBLs"
   },
   "source": [
    "Добавим полученную таблицу с закодированными признаками:"
   ]
  },
  {
   "cell_type": "code",
   "execution_count": 38,
   "metadata": {
    "id": "blXeWiS0kBLs"
   },
   "outputs": [
    {
     "name": "stdout",
     "output_type": "stream",
     "text": [
      "Shape of data: (1458233, 38)\n"
     ]
    }
   ],
   "source": [
    "train_data = pd.concat(\n",
    "    [train_data.reset_index(drop=True).drop(columns_to_change, axis=1), data_onehot], \n",
    "    axis=1\n",
    ")\n",
    "print(f'Shape of data: {train_data.shape}')"
   ]
  },
  {
   "cell_type": "markdown",
   "metadata": {
    "id": "XQhXAud5kBLt"
   },
   "source": [
    "Теперь, когда категориальные признаки предобработаны, сформируем матрицу наблюдений X, вектор целевой переменной y и его логарифм y_log. В матрицу наблюдений войдут все столбцы из таблицы с поездками за исключением целевого признака trip_duration и его логарифмированной версии trip_duration_log:\n"
   ]
  },
  {
   "cell_type": "code",
   "execution_count": 39,
   "metadata": {
    "id": "Vz6YfcALkBLt"
   },
   "outputs": [],
   "source": [
    "X = train_data.drop(['trip_duration', 'trip_duration_log'], axis=1)\n",
    "y = train_data['trip_duration']\n",
    "y_log = train_data['trip_duration_log']"
   ]
  },
  {
   "cell_type": "markdown",
   "metadata": {
    "id": "orPjdejMkBLt"
   },
   "source": [
    "Все наши модели мы будем обучать на логарифмированной версии y_log. "
   ]
  },
  {
   "cell_type": "markdown",
   "metadata": {
    "id": "L8CzG9CnkBLt"
   },
   "source": [
    "Выбранный тип валидации - hold-out. Разобьем выборку на обучающую и валидационную в соотношении 67/33:"
   ]
  },
  {
   "cell_type": "code",
   "execution_count": 40,
   "metadata": {
    "id": "hPEJ89ZdkBLt"
   },
   "outputs": [],
   "source": [
    "X_train, X_valid, y_train_log, y_valid_log = model_selection.train_test_split(\n",
    "    X, y_log, \n",
    "    test_size=0.33, \n",
    "    random_state=42\n",
    ")"
   ]
  },
  {
   "cell_type": "markdown",
   "metadata": {
    "id": "yL9ZPlW3kBLt"
   },
   "source": [
    "На данный момент у нас достаточно много признаков: скорее всего, не все из них будут важны. Давайте оставим лишь те, которые сильнее всего связаны с целевой переменной и точно будут вносить вклад в повышение качества модели.\n"
   ]
  },
  {
   "cell_type": "markdown",
   "metadata": {
    "id": "AaqdJUp-kBLt"
   },
   "source": [
    "### Задание 4.4.\n",
    "С помощью SelectKBest отберите 25 признаков, наилучшим образом подходящих для предсказания целевой переменной в логарифмическом масштабе. Отбор реализуйте по обучающей выборке, используя параметр score_func = f_regression.\n",
    "\n",
    "Укажите признаки, которые вошли в список отобранных\n"
   ]
  },
  {
   "cell_type": "code",
   "execution_count": 41,
   "metadata": {
    "id": "TEeqoG20kBLt"
   },
   "outputs": [
    {
     "name": "stdout",
     "output_type": "stream",
     "text": [
      "Признаки, которые вошли в список отобранных:\n",
      " ['vendor_id' 'passenger_count' 'pickup_longitude' 'pickup_latitude'\n",
      " 'dropoff_longitude' 'dropoff_latitude' 'store_and_fwd_flag' 'pickup_hour'\n",
      " 'pickup_holiday' 'total_distance' 'total_travel_time' 'number_of_steps'\n",
      " 'haversine_distance' 'temperature' 'pickup_day_of_week_Monday'\n",
      " 'pickup_day_of_week_Saturday' 'pickup_day_of_week_Sunday'\n",
      " 'pickup_day_of_week_Thursday' 'pickup_day_of_week_Tuesday'\n",
      " 'pickup_day_of_week_Wednesday' 'geo_cluster_1' 'geo_cluster_4'\n",
      " 'geo_cluster_5' 'geo_cluster_7' 'geo_cluster_8']\n"
     ]
    }
   ],
   "source": [
    "# отбираем 25 признаков\n",
    "selector = feature_selection.SelectKBest(\n",
    "    score_func = feature_selection.f_regression,\n",
    "    k = 25\n",
    ")\n",
    "selector.fit(X_train, y_train_log)\n",
    "\n",
    "# оставляем только полученные 25 признаков\n",
    "best_features = selector.get_feature_names_out()\n",
    "X_train = X_train[best_features]\n",
    "X_valid = X_valid[best_features]\n",
    "print('Признаки, которые вошли в список отобранных:\\n', best_features)"
   ]
  },
  {
   "cell_type": "markdown",
   "metadata": {
    "id": "JLOJ_kdlkBLt"
   },
   "source": [
    "Так как мы будем использовать различные модели, в том числе внутри которых заложены численные методы оптимизации, то давайте заранее позаботимся о масштабировании факторов. \n"
   ]
  },
  {
   "cell_type": "markdown",
   "metadata": {
    "id": "9WfHLiGKkBLu"
   },
   "source": [
    "### Задание 4.5.\n",
    "Нормализуйте предикторы в обучающей и валидационной выборках с помощью MinMaxScaler из библиотеки sklearn. Помните, что обучение нормализатора производится на обучающей выборке, а трансформация на обучающей и валидационной!\n",
    "\n",
    "Рассчитайте среднее арифметическое для первого предиктора (т. е. для первого столбца матрицы) из валидационной выборки. Ответ округлите до сотых.\n"
   ]
  },
  {
   "cell_type": "code",
   "execution_count": 42,
   "metadata": {
    "id": "WSslyUgwkBLu"
   },
   "outputs": [
    {
     "name": "stdout",
     "output_type": "stream",
     "text": [
      "Среднее арифметическое для первого предиктора из валидационной выборки: vendor_id    0.54\n",
      "dtype: float64\n"
     ]
    }
   ],
   "source": [
    "# инициализируем нормализатор MinMaxScaler\n",
    "scaler = preprocessing.MinMaxScaler()\n",
    "\n",
    "# преобразовываем данные\n",
    "X_train = scaler.fit_transform(X_train)\n",
    "X_valid = scaler.transform(X_valid)\n",
    "\n",
    "# преобразуем массивы в DataFrame\n",
    "X_train = pd.DataFrame(X_train, columns = best_features)\n",
    "X_valid = pd.DataFrame(X_valid, columns = best_features)\n",
    "\n",
    "print('Среднее арифметическое для первого предиктора из валидационной выборки:',\n",
    "      round(X_valid.iloc[:, [0]].mean(), 2))"
   ]
  },
  {
   "cell_type": "markdown",
   "metadata": {
    "id": "gaEMuA6skBLu"
   },
   "source": [
    "## 5. Решение задачи регрессии: линейная регрессия и деревья решений"
   ]
  },
  {
   "cell_type": "markdown",
   "metadata": {
    "id": "y-pS_2XykBLu"
   },
   "source": [
    "Определим метрику, по которой мы будем измерять качество наших моделей. Мы будем следовать канонам исходного соревнования на Kaggle и в качестве метрики использовать RMSLE (Root Mean Squared Log Error), которая вычисляется как:\n",
    "$$RMSLE = \\sqrt{\\frac{1}{n}\\sum_{i=1}^n(log(y_i+1)-log(\\hat{y_i}+1))^2},$$\n",
    "где:\n",
    "* $y_i$ - истинная длительность i-ой поездки на такси (trip_duration)\n",
    "* $\\hat{y_i}$- предсказанная моделью длительность i-ой поездки на такси\n",
    "\n",
    "Заметим, что логарифмирование целевого признака мы уже провели заранее, поэтому нам будет достаточно вычислить метрику RMSE для модели, обученной прогнозировать длительность поездки такси в логарифмическом масштабе:\n",
    "$$z_i=log(y_i+1),$$\n",
    "$$RMSLE = \\sqrt{\\frac{1}{n}\\sum_{i=1}^n(z_i-\\hat{z_i})^2}=\\sqrt{MSE(z_i,\\hat{z_i})}$$ \n",
    "\n"
   ]
  },
  {
   "cell_type": "markdown",
   "metadata": {
    "id": "6Qd3xY1-kBLu"
   },
   "source": [
    "### Задание 5.1.\n",
    "Постройте модель линейной регрессии на обучающей выборке (факторы должны быть нормализованы, целевую переменную используйте в логарифмическом масштабе). Все параметры оставьте по умолчанию.\n",
    "\n",
    "Для полученной модели рассчитайте метрику RMSLE на тренировочной и валидационной выборках. Ответ округлите до сотых.\n"
   ]
  },
  {
   "cell_type": "code",
   "execution_count": 43,
   "metadata": {
    "id": "R1IB1yK5kBLu"
   },
   "outputs": [
    {
     "name": "stdout",
     "output_type": "stream",
     "text": [
      "RMSE на тренировочной выборке: 0.53\n",
      "RMSE на валидационной выборке: 0.54\n"
     ]
    }
   ],
   "source": [
    "# создаём объект класса LinearRegression\n",
    "lr_model = linear_model.LinearRegression()\n",
    "\n",
    "# обучаем модель\n",
    "lr_model.fit(X_train, y_train_log)\n",
    "\n",
    "# делаем предсказания\n",
    "y_train_pred = lr_model.predict(X_train)\n",
    "y_valid_pred = lr_model.predict(X_valid)\n",
    "\n",
    "# рассчитываем RMSLE\n",
    "print('RMSE на тренировочной выборке:',\n",
    "    round(np.sqrt(metrics.mean_squared_error(y_train_log, y_train_pred)), 2))\n",
    "print('RMSE на валидационной выборке:',\n",
    "    round(np.sqrt(metrics.mean_squared_error(y_valid_log, y_valid_pred)), 2))"
   ]
  },
  {
   "cell_type": "markdown",
   "metadata": {
    "id": "QSN6i928kBLu"
   },
   "source": [
    "### Задание 5.2.\n",
    "Сгенерируйте полиномиальные признаки 2-ой степени с помощью PolynomialFeatures из библиотеки sklearn. Параметр include_bias выставите в значение False.\n",
    "\n",
    "Постройте модель полиномиальной регрессии 2-ой степени на обучающей выборке (факторы должны быть нормализованы, целевую переменную используйте в логарифмическом масштабе). Все параметры оставьте по умолчанию.\n",
    "\n",
    "а) Для полученной модели рассчитайте метрику RMSLE на тренировочной и валидационной выборках. Ответ округлите до сотых.\n",
    "\n",
    "б) Наблюдаются ли у вашей модели признаки переобучения?\n"
   ]
  },
  {
   "cell_type": "code",
   "execution_count": 44,
   "metadata": {
    "id": "gIIWA_arkBLu"
   },
   "outputs": [
    {
     "name": "stdout",
     "output_type": "stream",
     "text": [
      "RMSE на тренировочной выборке: 0.47\n",
      "RMSE на валидационной выборке: 0.61\n"
     ]
    }
   ],
   "source": [
    "# создаем объект класса PolynomialFeatures и \n",
    "# генератор полиномиальных признаков\n",
    "poly = preprocessing.PolynomialFeatures(2, include_bias=False)\n",
    "poly.fit(X_train)\n",
    "\n",
    "# генерируем полиномиальные признаки\n",
    "X_train_poly = poly.transform(X_train)\n",
    "X_valid_poly = poly.transform(X_valid)\n",
    "\n",
    "# строим модель полиномиальной регрессии и \n",
    "# делаем предсказания\n",
    "lr_poly = linear_model.LinearRegression()\n",
    "lr_poly.fit(X_train_poly, y_train_log)\n",
    "y_train_pred = lr_poly.predict(X_train_poly)\n",
    "y_valid_pred = lr_poly.predict(X_valid_poly)\n",
    "\n",
    "# рассчитываем RMSLE\n",
    "print('RMSE на тренировочной выборке:',\n",
    "    round(np.sqrt(metrics.mean_squared_error(y_train_log, y_train_pred)), 2))\n",
    "print('RMSE на валидационной выборке:',\n",
    "    round(np.sqrt(metrics.mean_squared_error(y_valid_log, y_valid_pred)), 2))\n"
   ]
  },
  {
   "cell_type": "markdown",
   "metadata": {},
   "source": [
    "Да, у модели наблюдаются признаки переобучения."
   ]
  },
  {
   "cell_type": "markdown",
   "metadata": {
    "id": "7ChD_MF6kBLv"
   },
   "source": [
    "### Задание 5.3.\n",
    "Постройте модель полиномиальной регрессии 2-ой степени с L2-регуляризацией (регуляризация по Тихонову) на обучающей выборке  (факторы должны быть нормализованы, целевую переменную используйте в логарифмическом масштабе). Коэффициент регуляризации $\\alpha$ установите равным 1, остальные параметры оставьте по умолчанию.\n",
    "\n",
    "Для полученной модели рассчитайте метрику RMSLE на тренировочной и валидационной выборках. Ответ округлите до сотых.\n"
   ]
  },
  {
   "cell_type": "code",
   "execution_count": 45,
   "metadata": {
    "id": "pwcMCt3XkBLv"
   },
   "outputs": [
    {
     "name": "stdout",
     "output_type": "stream",
     "text": [
      "RMSE на тренировочной выборке: 0.48\n",
      "RMSE на валидационной выборке: 0.48\n"
     ]
    }
   ],
   "source": [
    "# создаём объект класса LinearRegression с L2-регуляризацией\n",
    "lr_ridge = linear_model.Ridge(alpha=1)\n",
    "\n",
    "# обучаем модель\n",
    "lr_ridge.fit(X_train_poly, y_train_log)\n",
    "\n",
    "# делаем предсказания\n",
    "y_train_pred = lr_ridge.predict(X_train_poly)\n",
    "y_valid_pred = lr_ridge.predict(X_valid_poly)\n",
    "\n",
    "# рассчитываем RMSLE\n",
    "print('RMSE на тренировочной выборке:',\n",
    "    round(np.sqrt(metrics.mean_squared_error(y_train_log, y_train_pred)), 2))\n",
    "print('RMSE на валидационной выборке:',\n",
    "    round(np.sqrt(metrics.mean_squared_error(y_valid_log, y_valid_pred)), 2))"
   ]
  },
  {
   "cell_type": "markdown",
   "metadata": {
    "id": "aU5EJsIqkBLv"
   },
   "source": [
    "### Задание 5.4.\n",
    "Постройте модель дерева решений (DecisionTreeRegressor) на обучающей выборке (факторы должны быть нормализованы, целевую переменную используйте в логарифмическом масштабе). Все параметры оставьте по умолчанию. \n",
    "\n",
    "а) Для полученной модели рассчитайте метрику RMSLE на тренировочной и валидационной выборках. Ответ округлите до сотых.\n",
    "\n",
    "б) Наблюдаются ли у вашей модели признаки переобучения?\n"
   ]
  },
  {
   "cell_type": "code",
   "execution_count": 46,
   "metadata": {
    "id": "SY1G4YcrkBLv"
   },
   "outputs": [
    {
     "name": "stdout",
     "output_type": "stream",
     "text": [
      "RMSE на тренировочной выборке: 0.0\n",
      "RMSE на валидационной выборке: 0.56\n"
     ]
    }
   ],
   "source": [
    "# создаём объект класса DecisionTreeRegressor и \n",
    "# обучаем модель\n",
    "dt_reg = tree.DecisionTreeRegressor(random_state = 42)\n",
    "dt_reg.fit(X_train, y_train_log)\n",
    "\n",
    "# делаем предсказания\n",
    "y_train_pred = dt_reg.predict(X_train)\n",
    "y_valid_pred = dt_reg.predict(X_valid)\n",
    "\n",
    "# рассчитываем RMSLE\n",
    "print('RMSE на тренировочной выборке:',\n",
    "    round(np.sqrt(metrics.mean_squared_error(y_train_log, y_train_pred)), 2))\n",
    "print('RMSE на валидационной выборке:',\n",
    "    round(np.sqrt(metrics.mean_squared_error(y_valid_log, y_valid_pred)), 2))"
   ]
  },
  {
   "cell_type": "markdown",
   "metadata": {},
   "source": [
    "Да, у модели наблюдаются признаки переобучения."
   ]
  },
  {
   "cell_type": "markdown",
   "metadata": {
    "id": "1YJIlj4ykBLv"
   },
   "source": [
    "### Задание 5.5.\n",
    "Переберите все возможные варианты глубины дерева решений в диапазоне от 7 до 20:\n",
    "\n",
    "max_depths = range(7, 20)\n",
    "\n",
    "Параметр random_state задайте равным 42.\n",
    "\n",
    "Постройте линейные графики изменения метрики RMSE на тренировочной и валидационной выборках в зависимости от значения параметра глубины дерева решений. \n",
    "\n",
    "а) Найдите оптимальное значение максимальной глубины дерева, для которой будет наблюдаться минимальное значение RMSLE на обучающей выборке, но при этом еще не будет наблюдаться переобучение (валидационная кривая еще не начинает возрастать).\n",
    "\n",
    "б) Чему равно значение метрик RMSLE на тренировочной и валидационной выборках для дерева решений с выбранной оптимальной глубиной? Ответ округлите до сотых.\n"
   ]
  },
  {
   "cell_type": "code",
   "execution_count": null,
   "metadata": {
    "id": "_MbTVYsWkBLv"
   },
   "outputs": [],
   "source": [
    "# список значений глубины дерева решений\n",
    "max_depths = range(7, 20)\n",
    "\n",
    "# создаём пустые списки для результатов\n",
    "train_scores = []\n",
    "valid_scores = []\n",
    "\n",
    "for depth in max_depths:\n",
    "    # создаём и обучаем модель\n",
    "    dt_reg = tree.DecisionTreeRegressor(max_depth = depth, random_state = 42)\n",
    "    dt_reg.fit(X_train, y_train_log)\n",
    "    # делаем предсказания \n",
    "    y_train_pred = dt_reg.predict(X_train)\n",
    "    y_valid_pred = dt_reg.predict(X_valid)\n",
    "    # рассчитываем RMSLE для двух выборок и добавляем в списки\n",
    "    train_scores.append(\n",
    "        np.sqrt(metrics.mean_squared_error(y_train_log, y_train_pred))\n",
    "        )\n",
    "    valid_scores.append(\n",
    "        np.sqrt(metrics.mean_squared_error(y_valid_log, y_valid_pred))\n",
    "        )\n",
    "    \n",
    "fig = go.Figure()\n",
    "\n",
    "fig.add_trace(go.Scatter(\n",
    "                         x=list(max_depths),\n",
    "                         y=train_scores,\n",
    "                         mode='lines+markers',\n",
    "                         name='train'\n",
    "                         )\n",
    "              )\n",
    "             \n",
    "             \n",
    "\n",
    "fig.add_trace(go.Scatter(\n",
    "                         x=list(max_depths),\n",
    "                         y=valid_scores,\n",
    "                         mode='lines+markers',\n",
    "                         name='valid'\n",
    "                         )\n",
    "              )\n",
    "    \n",
    "fig.update_traces(hoverinfo='all', \n",
    "                  hovertemplate='max_depths: %{x}<br>RMSLE: %{y}')\n",
    "\n",
    "fig.update_layout(title='Dependence of RMSLE on max_depths', \n",
    "                  title_x = 0.5, title_font_size=20,\n",
    "                  legend_orientation='h', legend=dict(x=.5, xanchor='center'),\n",
    "                  height=600)\n",
    "\n",
    "fig.update_xaxes(title_text='max_depths')\n",
    "fig.update_yaxes(title_text='RMSLE')\n",
    "\n",
    "fig.show()    \n",
    "\n",
    "# извлекаем индекс лучшего RMSLE на валидационной выборке и\n",
    "# определяем оптимальную глубину дерева и значения RMSLE\n",
    "best_index = valid_scores.index(min(valid_scores))\n",
    "print('Оптимальная глубина дерева решений:', max_depths[best_index])\n",
    "print('RMSLE на тренировочной выборке:', round(train_scores[best_index], 2))\n",
    "print('RMSLE на валидационной выборке:', round(valid_scores[best_index], 2))"
   ]
  },
  {
   "cell_type": "markdown",
   "metadata": {
    "id": "zUXrz7YDkBLv"
   },
   "source": [
    "## 6. Решение задачи регрессии: ансамблевые методы и построение прогноза"
   ]
  },
  {
   "cell_type": "markdown",
   "metadata": {
    "id": "297rnbaikBLv"
   },
   "source": [
    "Переходим к тяжелой артиллерии: ансамблевым алгоритмам. "
   ]
  },
  {
   "cell_type": "markdown",
   "metadata": {
    "id": "ZIAGlVjqkBLw"
   },
   "source": [
    "### Задание 6.1.\n",
    "\n",
    "Постройте модель случайного леса на обучающей выборке (факторы должны быть нормализованы, целевую переменную используйте в логарифмическом масштабе). В качестве гиперпараметров укажите следующие:\n",
    "* n_estimators=200,\n",
    "* max_depth=12,\n",
    "* criterion='squared_error',\n",
    "* min_samples_split=20,\n",
    "* random_state=42\n",
    "\n",
    "Для полученной модели рассчитайте метрику RMSLE на тренировочной и валидационной выборках. Ответ округлите до сотых.\n"
   ]
  },
  {
   "cell_type": "code",
   "execution_count": 48,
   "metadata": {
    "id": "QQQdFHWfkBLw"
   },
   "outputs": [
    {
     "name": "stdout",
     "output_type": "stream",
     "text": [
      "RMSE на тренировочной выборке: 0.4\n",
      "RMSE на валидационной выборке: 0.41\n"
     ]
    }
   ],
   "source": [
    "# создаём объект класса RandomForestRegressor\n",
    "rf_reg = ensemble.RandomForestRegressor(\n",
    "    n_estimators = 200,\n",
    "    max_depth = 12,\n",
    "    criterion = 'squared_error',\n",
    "    min_samples_split = 20,\n",
    "    random_state = 42,\n",
    "    n_jobs = -1\n",
    ")\n",
    "\n",
    "# обучаем модель\n",
    "rf_reg.fit(X_train, y_train_log)\n",
    "\n",
    "# делаем предсказания\n",
    "y_train_pred = rf_reg.predict(X_train)\n",
    "y_valid_pred = rf_reg.predict(X_valid)\n",
    "\n",
    "# рассчитываем RMSLE\n",
    "print('RMSE на тренировочной выборке:',\n",
    "    round(np.sqrt(metrics.mean_squared_error(y_train_log, y_train_pred)), 2))\n",
    "print('RMSE на валидационной выборке:',\n",
    "    round(np.sqrt(metrics.mean_squared_error(y_valid_log, y_valid_pred)), 2))"
   ]
  },
  {
   "cell_type": "markdown",
   "metadata": {
    "id": "JZz_qWKDkBLw"
   },
   "source": [
    "### Задание 6.2.\n",
    "Постройте модель градиентного бустинга над деревьями решений (GradientBoostingRegressor) на обучающей выборке (факторы должны быть нормализованы, целевую переменную используйте в логарифмическом масштабе). В качестве гиперпараметров укажите следующие:\n",
    "* learning_rate=0.5,\n",
    "* n_estimators=100,\n",
    "* max_depth=6, \n",
    "* min_samples_split=30,\n",
    "* random_state=42\n",
    "\n",
    "Для полученной модели рассчитайте метрику RMSLE на тренировочной и валидационной выборках. Ответ округлите до сотых.\n"
   ]
  },
  {
   "cell_type": "code",
   "execution_count": 49,
   "metadata": {
    "id": "KnnmuhoSkBLw"
   },
   "outputs": [
    {
     "name": "stdout",
     "output_type": "stream",
     "text": [
      "RMSE на тренировочной выборке: 0.37\n",
      "RMSE на валидационной выборке: 0.39\n"
     ]
    }
   ],
   "source": [
    "# создаём объект класса GradientBoostingRegressor\n",
    "gb_reg = ensemble.GradientBoostingRegressor(\n",
    "    learning_rate = 0.5,\n",
    "    n_estimators = 100,\n",
    "    max_depth = 6,\n",
    "    min_samples_split = 30,\n",
    "    random_state = 42\n",
    ")\n",
    "\n",
    "# обучаем модель\n",
    "gb_reg.fit(X_train, y_train_log)\n",
    "\n",
    "# делаем предсказания\n",
    "y_train_pred = gb_reg.predict(X_train)\n",
    "y_valid_pred = gb_reg.predict(X_valid)\n",
    "\n",
    "# рассчитываем RMSLE\n",
    "print('RMSE на тренировочной выборке:',\n",
    "    round(np.sqrt(metrics.mean_squared_error(y_train_log, y_train_pred)), 2))\n",
    "print('RMSE на валидационной выборке:',\n",
    "    round(np.sqrt(metrics.mean_squared_error(y_valid_log, y_valid_pred)), 2))"
   ]
  },
  {
   "cell_type": "markdown",
   "metadata": {
    "id": "zC3NKXLhkBLw"
   },
   "source": [
    "### Задание 6.3.\n",
    "Какая из построенных вами моделей показала наилучший результат (наименьшее значение RMSLE на валидационной выборке)?\n",
    "* Линейная регрессия\n",
    "* Полиномиальная регрессия 2ой степени\n",
    "* Дерево решений\n",
    "* Случайный лес\n",
    "* Градиентный бустинг над деревьями решений\n"
   ]
  },
  {
   "cell_type": "markdown",
   "metadata": {},
   "source": [
    "Градиентный бустинг над деревьями решений показал наилучший результат (наименьшее значение RMSLE на валидационной выборке."
   ]
  },
  {
   "cell_type": "markdown",
   "metadata": {
    "id": "eaBYTxnkkBLx"
   },
   "source": [
    "### Задание 6.4.\n",
    "Постройте столбчатую диаграмму коэффициентов значимости каждого из факторов.\n",
    "\n",
    "Укажите топ-3 наиболее значимых для предсказания целевого признака - длительности поездки в логарифмическом масштабе - факторов.\n"
   ]
  },
  {
   "cell_type": "code",
   "execution_count": null,
   "metadata": {
    "id": "KmYOePR8kBLx"
   },
   "outputs": [],
   "source": [
    "features = X_train.columns                # признаки\n",
    "importances = gb_reg.feature_importances_ # важность признаков\n",
    "\n",
    "fig = go.Figure()\n",
    "\n",
    "fig.add_trace(go.Bar(x=features, y=importances, name='',  marker_color=[i for i in range(1, 26)]))\n",
    "\n",
    "fig.update_traces(hoverinfo='all', hovertemplate='feature: %{x}<br>mportances: %{y}')\n",
    "\n",
    "fig.update_layout(title='Bar plot feature importances', \n",
    "                  title_x = 0.5, title_font_size=25,\n",
    "                  bargap=0.2,\n",
    "                  showlegend=False,\n",
    "                  height=600)\n",
    "\n",
    "fig.update_xaxes(tickangle=90)\n",
    "\n",
    "fig.update_yaxes(title_text='importances')\n",
    "\n",
    "fig.show()"
   ]
  },
  {
   "cell_type": "markdown",
   "metadata": {
    "id": "TQ4NzZaTkBLx"
   },
   "source": [
    "### Задание 6.5.\n",
    "Для лучшей из построенных моделей рассчитайте медианную абсолютную ошибку (MeAE - в sklearn функция median_absolute_error) предсказания длительности поездки такси на валидационной выборке:\n",
    "$$ MeAE = median(|y_i-\\hat{y_i}|)$$\n",
    "\n",
    "Значение метрики MeAE переведите в минуты и округлите до десятых.\n"
   ]
  },
  {
   "cell_type": "code",
   "execution_count": 51,
   "metadata": {
    "id": "mOYteyJ-kBLx"
   },
   "outputs": [
    {
     "name": "stdout",
     "output_type": "stream",
     "text": [
      "MeAE на валидационной выборке: 1.8 мин\n"
     ]
    }
   ],
   "source": [
    "# переводим из логарифимического маштаба в изначальный\n",
    "y_valid_exp = np.exp(y_valid_log) - 1\n",
    "y_valid_pred_exp = np.exp(y_valid_pred) - 1\n",
    "\n",
    "# рассчитываем медианную абсолютную ошибку\n",
    "meae_valid = metrics.median_absolute_error(y_valid_exp, y_valid_pred_exp)\n",
    "\n",
    "# переводим значение метрики в минуты и округляем\n",
    "print('MeAE на валидационной выборке:', round(meae_valid / 60, 1), 'мин')"
   ]
  },
  {
   "cell_type": "markdown",
   "metadata": {
    "id": "NZzsSUFfkBLx"
   },
   "source": [
    "Финальный шаг - сделать submit -  предсказание для отложенного тестового набора данных. "
   ]
  },
  {
   "cell_type": "markdown",
   "metadata": {
    "id": "J12UJrZOkBLx"
   },
   "source": [
    "Прочитаем тестовые данные и заранее выделим столбец с идентификаторами поездок из тестового набора данных. Он нам еще пригодится:\n"
   ]
  },
  {
   "cell_type": "code",
   "execution_count": 52,
   "metadata": {
    "id": "5KAzvZidkBLx"
   },
   "outputs": [],
   "source": [
    "test_data = pd.read_csv(\"data/test.csv\")\n",
    "osrm_data_test = pd.read_csv(\"data/osrm_data_test.csv\")\n",
    "test_id = test_data['id']"
   ]
  },
  {
   "cell_type": "markdown",
   "metadata": {
    "id": "sdrR42JrkBLy"
   },
   "source": [
    "Перед созданием прогноза для тестовой выборки необходимо произвести все манипуляции с данными, которые мы производили с тренировочной выборкой, а именно:\n",
    "* Перевести признак pickup_datetime в формат datetime;\n",
    "* Добавить новые признаки (временные, географические, погодные и другие факторы);\n",
    "* Произвести очистку данных от пропусков;\n",
    "* Произвести кодировку категориальных признаков:\n",
    "    * Закодировать бинарные признаки;\n",
    "    * Закодировать номинальные признаки с помощью обученного на тренировочной выборке OneHotEncoder’а;\n",
    "* Сформировать матрицу наблюдений, оставив в таблице только те признаки, которые были отобраны с помощью SelectKBest;\n",
    "* Нормализовать данные с помощью обученного на тренировочной выборке MinMaxScaler’а.\n"
   ]
  },
  {
   "cell_type": "code",
   "execution_count": 53,
   "metadata": {
    "id": "nqWQbqhGkBLy"
   },
   "outputs": [
    {
     "name": "stdout",
     "output_type": "stream",
     "text": [
      "Shape of data: (625134, 25)\n"
     ]
    }
   ],
   "source": [
    "test_data['pickup_datetime']=pd.to_datetime(test_data['pickup_datetime'],format='%Y-%m-%d %H:%M:%S')\n",
    "test_data = add_datetime_features(test_data)\n",
    "test_data = add_holiday_features(test_data, holiday_data)\n",
    "test_data = add_osrm_features(test_data, osrm_data_test)\n",
    "test_data = add_geographical_features(test_data)\n",
    "test_data = add_cluster_features(test_data, kmeans)\n",
    "test_data = add_weather_features(test_data, weather_data)\n",
    "test_data = fill_null_weather_data(test_data)\n",
    "\n",
    "test_data['vendor_id'] = test_data['vendor_id'].apply(lambda x: 0 if x == 1 else 1)\n",
    "test_data['store_and_fwd_flag'] = test_data['store_and_fwd_flag'].apply(lambda x: 0 if x == 'N' else 1)\n",
    "test_data_onehot = one_hot_encoder.fit_transform(test_data[columns_to_change]).toarray()\n",
    "column_names = one_hot_encoder.get_feature_names_out(columns_to_change)\n",
    "test_data_onehot = pd.DataFrame(test_data_onehot, columns=column_names)\n",
    "\n",
    "test_data = pd.concat(\n",
    "    [test_data.reset_index(drop=True).drop(columns_to_change, axis=1), test_data_onehot], \n",
    "    axis=1\n",
    ")\n",
    "X_test = test_data[best_features]\n",
    "X_test_scaled = scaler.transform(X_test)\n",
    "print('Shape of data: {}'.format(X_test.shape))"
   ]
  },
  {
   "cell_type": "markdown",
   "metadata": {
    "id": "24JJ64T4kBLy"
   },
   "source": [
    "Только после выполнения всех этих шагов можно сделать предсказание длительности поездки для тестовой выборки. Не забудьте перевести предсказания из логарифмического масштаба в истинный, используя формулу:\n",
    "$$y_i=exp(z_i)-1$$\n",
    "\n",
    "После того, как вы сформируете предсказание длительности поездок на тестовой выборке вам необходимо будет создать submission-файл в формате csv, отправить его на платформу Kaggle и посмотреть на результирующее значение метрики RMSLE на тестовой выборке.\n",
    "\n",
    "Код для создания submission-файла:\n"
   ]
  },
  {
   "cell_type": "code",
   "execution_count": 54,
   "metadata": {
    "id": "JeMAzrHHkBLy"
   },
   "outputs": [
    {
     "name": "stderr",
     "output_type": "stream",
     "text": [
      "c:\\Users\\artem\\AppData\\Local\\Programs\\Python\\Python310\\lib\\site-packages\\sklearn\\base.py:464: UserWarning:\n",
      "\n",
      "X does not have valid feature names, but GradientBoostingRegressor was fitted with feature names\n",
      "\n"
     ]
    }
   ],
   "source": [
    "# делаем предсказание для тестовой выборки\n",
    "y_test_pred_log = gb_reg.predict(X_test_scaled)\n",
    "\n",
    "# переводим предсказания из логарифмического маштаба в истинный\n",
    "y_test_predict = np.exp(y_test_pred_log) - 1\n",
    "\n",
    "# создаём submission-файл\n",
    "submission = pd.DataFrame({'id': test_id, 'trip_duration': y_test_predict})\n",
    "submission.to_csv('data/submission_gb.csv', index=False)"
   ]
  },
  {
   "cell_type": "markdown",
   "metadata": {
    "id": "iU5BA_XDkBLy"
   },
   "source": [
    "### **В качестве бонуса**\n",
    "\n",
    "В завершение по ансамблевым мы предлагаем вам попробовать улучшить свое предсказание, воспользовавшись моделью экстремального градиентного бустинга (XGBoost) из библиотеки xgboost.\n",
    "\n",
    "**XGBoost** - современная модель машинного обучения, которая является продолжением идеи градиентного бустинга Фридмана. У нее есть несколько преимуществ по сравнению с классической моделью градиентного бустинга из библиотеки sklearn: повышенная производительность путем параллелизации процесса обучения, повышенное качество решения за счет усовершенствования алгоритма бустинга, меньшая склонность к переобучению и широкий функционал возможности управления параметрами модели.\n"
   ]
  },
  {
   "cell_type": "markdown",
   "metadata": {
    "id": "_FARWLbakBLy"
   },
   "source": [
    "Для ее использования необходимо для начала установить пакет xgboost:"
   ]
  },
  {
   "cell_type": "code",
   "execution_count": 55,
   "metadata": {
    "id": "h8KXUhyGkBLy"
   },
   "outputs": [],
   "source": [
    "# !pip install xgboost"
   ]
  },
  {
   "cell_type": "markdown",
   "metadata": {
    "id": "urka0597kBLz"
   },
   "source": [
    "После чего модуль можно импортировать:"
   ]
  },
  {
   "cell_type": "code",
   "execution_count": 56,
   "metadata": {
    "id": "kpLIalxfkBLz"
   },
   "outputs": [],
   "source": [
    "import xgboost as xgb"
   ]
  },
  {
   "cell_type": "markdown",
   "metadata": {
    "id": "CwJ80NU7kBLz"
   },
   "source": [
    "Перед обучением модели необходимо перевести наборы данных в тип данных xgboost.DMatrix:"
   ]
  },
  {
   "cell_type": "code",
   "execution_count": 59,
   "metadata": {
    "id": "ehrdmZJekBLz"
   },
   "outputs": [],
   "source": [
    "# создание матриц наблюдений в формате DMatrix\n",
    "dtrain = xgb.DMatrix(X_train, label=y_train_log, feature_names=best_features)\n",
    "dvalid = xgb.DMatrix(X_valid, label=y_valid_log, feature_names=best_features)\n",
    "dtest = xgb.DMatrix(X_test_scaled, feature_names=best_features)"
   ]
  },
  {
   "cell_type": "markdown",
   "metadata": {
    "id": "kW0LAucxkBLz"
   },
   "source": [
    "Обучение модели XGBoost происходит с помощью метода train, в который необходимо передать параметры модели, набор данных, количество базовых моделей в ансамбле, а также дополнительные параметры:\n"
   ]
  },
  {
   "cell_type": "code",
   "execution_count": 60,
   "metadata": {
    "id": "u0uDs1YakBLz"
   },
   "outputs": [
    {
     "name": "stdout",
     "output_type": "stream",
     "text": [
      "[0]\ttrain-rmse:5.42218\tvalid-rmse:5.42189\n",
      "[10]\ttrain-rmse:1.93581\tvalid-rmse:1.93575\n",
      "[20]\ttrain-rmse:0.78514\tvalid-rmse:0.78601\n",
      "[30]\ttrain-rmse:0.47873\tvalid-rmse:0.48081\n",
      "[40]\ttrain-rmse:0.42070\tvalid-rmse:0.42344\n",
      "[50]\ttrain-rmse:0.40891\tvalid-rmse:0.41214\n",
      "[60]\ttrain-rmse:0.40378\tvalid-rmse:0.40737\n",
      "[70]\ttrain-rmse:0.40086\tvalid-rmse:0.40482\n",
      "[80]\ttrain-rmse:0.39864\tvalid-rmse:0.40286\n",
      "[90]\ttrain-rmse:0.39712\tvalid-rmse:0.40160\n",
      "[100]\ttrain-rmse:0.39578\tvalid-rmse:0.40051\n",
      "[110]\ttrain-rmse:0.39465\tvalid-rmse:0.39967\n",
      "[120]\ttrain-rmse:0.39360\tvalid-rmse:0.39897\n",
      "[130]\ttrain-rmse:0.39229\tvalid-rmse:0.39791\n",
      "[140]\ttrain-rmse:0.39106\tvalid-rmse:0.39707\n",
      "[150]\ttrain-rmse:0.38986\tvalid-rmse:0.39626\n",
      "[160]\ttrain-rmse:0.38893\tvalid-rmse:0.39563\n",
      "[170]\ttrain-rmse:0.38812\tvalid-rmse:0.39512\n",
      "[180]\ttrain-rmse:0.38739\tvalid-rmse:0.39466\n",
      "[190]\ttrain-rmse:0.38649\tvalid-rmse:0.39408\n",
      "[200]\ttrain-rmse:0.38573\tvalid-rmse:0.39370\n",
      "[210]\ttrain-rmse:0.38505\tvalid-rmse:0.39335\n",
      "[220]\ttrain-rmse:0.38464\tvalid-rmse:0.39322\n",
      "[230]\ttrain-rmse:0.38412\tvalid-rmse:0.39302\n",
      "[240]\ttrain-rmse:0.38366\tvalid-rmse:0.39272\n",
      "[250]\ttrain-rmse:0.38306\tvalid-rmse:0.39245\n",
      "[260]\ttrain-rmse:0.38248\tvalid-rmse:0.39222\n",
      "[270]\ttrain-rmse:0.38192\tvalid-rmse:0.39203\n",
      "[280]\ttrain-rmse:0.38169\tvalid-rmse:0.39201\n",
      "[290]\ttrain-rmse:0.38121\tvalid-rmse:0.39175\n",
      "[299]\ttrain-rmse:0.38085\tvalid-rmse:0.39174\n"
     ]
    }
   ],
   "source": [
    "# Гиперпараметры модели\n",
    "xgb_pars = {'min_child_weight': 20, 'eta': 0.1, 'colsample_bytree': 0.9, \n",
    "            'max_depth': 6, 'subsample': 0.9, 'lambda': 1, 'nthread': -1, \n",
    "            'booster' : 'gbtree', 'eval_metric': 'rmse', 'objective': 'reg:squarederror'\n",
    "           }\n",
    "# Тренировочная и валидационная выборка\n",
    "watchlist = [(dtrain, 'train'), (dvalid, 'valid')]\n",
    "# Обучаем модель XGBoost\n",
    "model = xgb.train(\n",
    "    params=xgb_pars, # гиперпараметры модели\n",
    "    dtrain=dtrain, # обучающая выборка\n",
    "    num_boost_round=300, # количество моделей в ансамбле\n",
    "    evals=watchlist, # выборки, на которых считается матрица\n",
    "    early_stopping_rounds=20, # раняя остановка\n",
    "    maximize=False, # смена поиска максимума на минимум\n",
    "    verbose_eval=10 # шаг, через который происходит отображение метрик\n",
    ")"
   ]
  },
  {
   "cell_type": "markdown",
   "metadata": {
    "id": "nDiMljt5kBLz"
   },
   "source": [
    "Предсказать целевой признак на новых данных можно с помощью метода predict():"
   ]
  },
  {
   "cell_type": "code",
   "execution_count": 61,
   "metadata": {
    "id": "XYBTeO7UkBLz"
   },
   "outputs": [
    {
     "name": "stdout",
     "output_type": "stream",
     "text": [
      "Modeling RMSLE 0.39174\n"
     ]
    }
   ],
   "source": [
    "# делаем предсказание на тестовом наборе данных\n",
    "y_test_predict = np.exp(model.predict(dtest)) - 1\n",
    "print('Modeling RMSLE %.5f' % model.best_score)"
   ]
  },
  {
   "cell_type": "code",
   "execution_count": 63,
   "metadata": {},
   "outputs": [],
   "source": [
    "# создаём submission-файл\n",
    "submission_xgb = pd.DataFrame({'id': test_id, 'trip_duration': y_test_predict})\n",
    "submission_xgb.to_csv('data/submission_xgb.csv', index = False)"
   ]
  },
  {
   "cell_type": "markdown",
   "metadata": {
    "id": "jgBn4xmikBLz"
   },
   "source": [
    "Также как и все модели, основанные на использовании деревьев решений в качестве базовых моделей, XGBoost имеет возможность определения коэффициентов важности факторов. Более того, в библиотеку встроена возможность визуализации важность факторов в виде столбчатой диаграммы. За эту возможность отвечает функция plot_importance():\n"
   ]
  },
  {
   "cell_type": "code",
   "execution_count": null,
   "metadata": {
    "id": "FEvlaqz4kBLz"
   },
   "outputs": [],
   "source": [
    "fig, ax = plt.subplots(figsize = (15,15))\n",
    "xgb.plot_importance(model, ax = ax, height=0.5)"
   ]
  }
 ],
 "metadata": {
  "colab": {
   "provenance": []
  },
  "kernelspec": {
   "display_name": "Python 3 (ipykernel)",
   "language": "python",
   "name": "python3"
  },
  "language_info": {
   "codemirror_mode": {
    "name": "ipython",
    "version": 3
   },
   "file_extension": ".py",
   "mimetype": "text/x-python",
   "name": "python",
   "nbconvert_exporter": "python",
   "pygments_lexer": "ipython3",
   "version": "3.10.8"
  }
 },
 "nbformat": 4,
 "nbformat_minor": 1
}
